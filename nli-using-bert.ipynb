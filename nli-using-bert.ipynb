{
 "cells": [
  {
   "cell_type": "code",
   "execution_count": 1,
   "id": "71fd7ed5",
   "metadata": {
    "_cell_guid": "20666a1f-e31b-4134-94f8-fea9a50998d3",
    "_uuid": "d3a20929-8e1d-48d2-869c-cc57f8c63cc9",
    "execution": {
     "iopub.execute_input": "2022-03-14T22:07:44.236696Z",
     "iopub.status.busy": "2022-03-14T22:07:44.235717Z",
     "iopub.status.idle": "2022-03-14T22:07:44.245668Z",
     "shell.execute_reply": "2022-03-14T22:07:44.246222Z",
     "shell.execute_reply.started": "2022-03-14T22:02:45.797454Z"
    },
    "papermill": {
     "duration": 0.060776,
     "end_time": "2022-03-14T22:07:44.246558",
     "exception": false,
     "start_time": "2022-03-14T22:07:44.185782",
     "status": "completed"
    },
    "tags": []
   },
   "outputs": [
    {
     "name": "stdout",
     "output_type": "stream",
     "text": [
      "/kaggle/input/contradictory-my-dear-watson/sample_submission.csv\n",
      "/kaggle/input/contradictory-my-dear-watson/train.csv\n",
      "/kaggle/input/contradictory-my-dear-watson/test.csv\n"
     ]
    }
   ],
   "source": [
    "# This Python 3 environment comes with many helpful analytics libraries installed\n",
    "# It is defined by the kaggle/python Docker image: https://github.com/kaggle/docker-python\n",
    "# For example, here's several helpful packages to load\n",
    "\n",
    "import numpy as np # linear algebra\n",
    "import pandas as pd # data processing, CSV file I/O (e.g. pd.read_csv)\n",
    "\n",
    "# Input data files are available in the read-only \"../input/\" directory\n",
    "# For example, running this (by clicking run or pressing Shift+Enter) will list all files under the input directory\n",
    "\n",
    "import os\n",
    "for dirname, _, filenames in os.walk('/kaggle/input'):\n",
    "    for filename in filenames:\n",
    "        print(os.path.join(dirname, filename))\n",
    "\n",
    "# You can write up to 5GB to the current directory (/kaggle/working/) that gets preserved as output when you create a version using \"Save & Run All\" \n",
    "# You can also write temporary files to /kaggle/temp/, but they won't be saved outside of the current session"
   ]
  },
  {
   "cell_type": "code",
   "execution_count": 2,
   "id": "e12a32ec",
   "metadata": {
    "execution": {
     "iopub.execute_input": "2022-03-14T22:07:44.336696Z",
     "iopub.status.busy": "2022-03-14T22:07:44.335617Z",
     "iopub.status.idle": "2022-03-14T22:07:44.337635Z",
     "shell.execute_reply": "2022-03-14T22:07:44.338172Z",
     "shell.execute_reply.started": "2022-03-14T22:02:45.830054Z"
    },
    "papermill": {
     "duration": 0.048711,
     "end_time": "2022-03-14T22:07:44.338325",
     "exception": false,
     "start_time": "2022-03-14T22:07:44.289614",
     "status": "completed"
    },
    "tags": []
   },
   "outputs": [],
   "source": [
    "os.environ[\"WANDB_API_KEY\"] = \"0\" ## to silence warning"
   ]
  },
  {
   "cell_type": "markdown",
   "id": "05913647",
   "metadata": {
    "papermill": {
     "duration": 0.040022,
     "end_time": "2022-03-14T22:07:44.418518",
     "exception": false,
     "start_time": "2022-03-14T22:07:44.378496",
     "status": "completed"
    },
    "tags": []
   },
   "source": [
    "This is a tutorial notebook for using BERT to solve a simple NLI problem. Specifically, given two statements, a premise and a hypothesis, can we predict whether the premise entails the hypothesis, the two are unrelated, or the two are contradictory? \n",
    "\n",
    "BERT is a NN architecture which has two broad aims during training: Masked Language Modelling (MLM) and Next Sentence Prediction (NSP). These two are trained simultaneously. The first, MLM, aims to teach the model the language itself. This works by masking certain words in the input and training the model to be able to \"fill in the blanks\", i.e. to be able to understand the language to the point where it can complete a sentence with missing words. NSP trains the model to determine whether two sentences are related in some way (the precise relation depends on the problem that is being solved), i.e. it learns to understand context. Here, we will use a simple implementation of a base pretrained model and will not tune any of the parameters. \n",
    "\n",
    "This notebook is based on the tutorial notebook https://www.kaggle.com/anasofiauzsoy/tutorial-notebook/notebook, with some small changes and additions. "
   ]
  },
  {
   "cell_type": "code",
   "execution_count": 3,
   "id": "7765b7ef",
   "metadata": {
    "_cell_guid": "863de620-d4b7-4711-b587-e1c75be9e36f",
    "_uuid": "e3dd507b-c502-488c-9dd0-419c5d73c159",
    "execution": {
     "iopub.execute_input": "2022-03-14T22:07:44.502922Z",
     "iopub.status.busy": "2022-03-14T22:07:44.501964Z",
     "iopub.status.idle": "2022-03-14T22:07:50.147348Z",
     "shell.execute_reply": "2022-03-14T22:07:50.147966Z",
     "shell.execute_reply.started": "2022-03-14T22:02:45.839818Z"
    },
    "papermill": {
     "duration": 5.689023,
     "end_time": "2022-03-14T22:07:50.148146",
     "exception": false,
     "start_time": "2022-03-14T22:07:44.459123",
     "status": "completed"
    },
    "tags": []
   },
   "outputs": [
    {
     "name": "stderr",
     "output_type": "stream",
     "text": [
      "2022-03-14 22:07:45.559657: W tensorflow/stream_executor/platform/default/dso_loader.cc:60] Could not load dynamic library 'libcudart.so.11.0'; dlerror: libcudart.so.11.0: cannot open shared object file: No such file or directory; LD_LIBRARY_PATH: /opt/conda/lib\n",
      "2022-03-14 22:07:45.559781: I tensorflow/stream_executor/cuda/cudart_stub.cc:29] Ignore above cudart dlerror if you do not have a GPU set up on your machine.\n"
     ]
    }
   ],
   "source": [
    "from transformers import BertTokenizer, TFBertModel\n",
    "import matplotlib.pyplot as plt\n",
    "import tensorflow as tf"
   ]
  },
  {
   "cell_type": "markdown",
   "id": "92ac03a6",
   "metadata": {
    "_cell_guid": "6c5122f9-8c39-4892-81a9-1f8830b64484",
    "_uuid": "58fb9ec5-c099-494c-bf59-6ec9d6e64628",
    "papermill": {
     "duration": 0.041309,
     "end_time": "2022-03-14T22:07:50.230753",
     "exception": false,
     "start_time": "2022-03-14T22:07:50.189444",
     "status": "completed"
    },
    "tags": []
   },
   "source": [
    "Let's set up our TPU."
   ]
  },
  {
   "cell_type": "code",
   "execution_count": 4,
   "id": "1a710704",
   "metadata": {
    "_cell_guid": "ca2729e3-9275-4a9c-b150-592320bd3e54",
    "_uuid": "386d0823-63ab-4765-9561-32c5f382e71d",
    "execution": {
     "iopub.execute_input": "2022-03-14T22:07:50.316615Z",
     "iopub.status.busy": "2022-03-14T22:07:50.315589Z",
     "iopub.status.idle": "2022-03-14T22:07:56.169507Z",
     "shell.execute_reply": "2022-03-14T22:07:56.168794Z",
     "shell.execute_reply.started": "2022-03-14T22:02:47.578670Z"
    },
    "papermill": {
     "duration": 5.89803,
     "end_time": "2022-03-14T22:07:56.169655",
     "exception": false,
     "start_time": "2022-03-14T22:07:50.271625",
     "status": "completed"
    },
    "tags": []
   },
   "outputs": [
    {
     "name": "stderr",
     "output_type": "stream",
     "text": [
      "2022-03-14 22:07:50.322381: I tensorflow/compiler/jit/xla_cpu_device.cc:41] Not creating XLA devices, tf_xla_enable_xla_devices not set\n",
      "2022-03-14 22:07:50.325489: W tensorflow/stream_executor/platform/default/dso_loader.cc:60] Could not load dynamic library 'libcuda.so.1'; dlerror: libcuda.so.1: cannot open shared object file: No such file or directory; LD_LIBRARY_PATH: /opt/conda/lib\n",
      "2022-03-14 22:07:50.325525: W tensorflow/stream_executor/cuda/cuda_driver.cc:326] failed call to cuInit: UNKNOWN ERROR (303)\n",
      "2022-03-14 22:07:50.325553: I tensorflow/stream_executor/cuda/cuda_diagnostics.cc:156] kernel driver does not appear to be running on this host (cdfda5561e0f): /proc/driver/nvidia/version does not exist\n",
      "2022-03-14 22:07:50.327926: I tensorflow/core/platform/cpu_feature_guard.cc:142] This TensorFlow binary is optimized with oneAPI Deep Neural Network Library (oneDNN) to use the following CPU instructions in performance-critical operations:  AVX2 FMA\n",
      "To enable them in other operations, rebuild TensorFlow with the appropriate compiler flags.\n",
      "2022-03-14 22:07:50.329278: I tensorflow/compiler/jit/xla_gpu_device.cc:99] Not creating XLA devices, tf_xla_enable_xla_devices not set\n",
      "2022-03-14 22:07:50.335546: I tensorflow/compiler/jit/xla_gpu_device.cc:99] Not creating XLA devices, tf_xla_enable_xla_devices not set\n",
      "2022-03-14 22:07:50.361146: I tensorflow/core/distributed_runtime/rpc/grpc_channel.cc:301] Initialize GrpcChannelCache for job worker -> {0 -> 10.0.0.2:8470}\n",
      "2022-03-14 22:07:50.361205: I tensorflow/core/distributed_runtime/rpc/grpc_channel.cc:301] Initialize GrpcChannelCache for job localhost -> {0 -> localhost:30020}\n",
      "2022-03-14 22:07:50.384738: I tensorflow/core/distributed_runtime/rpc/grpc_channel.cc:301] Initialize GrpcChannelCache for job worker -> {0 -> 10.0.0.2:8470}\n",
      "2022-03-14 22:07:50.384795: I tensorflow/core/distributed_runtime/rpc/grpc_channel.cc:301] Initialize GrpcChannelCache for job localhost -> {0 -> localhost:30020}\n",
      "2022-03-14 22:07:50.386376: I tensorflow/core/distributed_runtime/rpc/grpc_server_lib.cc:411] Started server with target: grpc://localhost:30020\n"
     ]
    }
   ],
   "source": [
    "try:\n",
    "    tpu = tf.distribute.cluster_resolver.TPUClusterResolver()\n",
    "    tf.config.experimental_connect_to_cluster(tpu)\n",
    "    tf.tpu.experimental.initialize_tpu_system(tpu)\n",
    "    strategy = tf.distribute.experimental.TPUStrategy(tpu)\n",
    "except ValueError:\n",
    "    strategy = tf.distribute.get_strategy() # for CPU and single GPU\n",
    "    print('Number of replicas:', strategy.num_replicas_in_sync)"
   ]
  },
  {
   "cell_type": "markdown",
   "id": "ab8046be",
   "metadata": {
    "_cell_guid": "44a1d22f-053c-4188-b25f-d714aa745016",
    "_uuid": "0b64130f-530a-4560-8afd-462a55fc14b3",
    "papermill": {
     "duration": 0.040521,
     "end_time": "2022-03-14T22:07:56.251627",
     "exception": false,
     "start_time": "2022-03-14T22:07:56.211106",
     "status": "completed"
    },
    "tags": []
   },
   "source": [
    "## Downloading Data"
   ]
  },
  {
   "cell_type": "markdown",
   "id": "8383216a",
   "metadata": {
    "_cell_guid": "6fb2939c-b14a-450f-85dd-7220439eaf55",
    "_uuid": "b9285071-38f2-421b-9b1c-9c44d41c7365",
    "papermill": {
     "duration": 0.040823,
     "end_time": "2022-03-14T22:07:56.333323",
     "exception": false,
     "start_time": "2022-03-14T22:07:56.292500",
     "status": "completed"
    },
    "tags": []
   },
   "source": [
    "The training set contains a premise, a hypothesis, a label (0 = entailment, 1 = neutral, 2 = contradiction), and the language of the text."
   ]
  },
  {
   "cell_type": "code",
   "execution_count": 5,
   "id": "efb0e734",
   "metadata": {
    "_cell_guid": "f3ad567b-a156-4ffc-a6f8-1f5e6e989a4e",
    "_uuid": "6e60d19f-aeae-417a-a10a-50cc1d5ee685",
    "execution": {
     "iopub.execute_input": "2022-03-14T22:07:56.420694Z",
     "iopub.status.busy": "2022-03-14T22:07:56.419965Z",
     "iopub.status.idle": "2022-03-14T22:07:56.597704Z",
     "shell.execute_reply": "2022-03-14T22:07:56.598303Z",
     "shell.execute_reply.started": "2022-03-14T22:02:47.580544Z"
    },
    "papermill": {
     "duration": 0.224174,
     "end_time": "2022-03-14T22:07:56.598508",
     "exception": false,
     "start_time": "2022-03-14T22:07:56.374334",
     "status": "completed"
    },
    "tags": []
   },
   "outputs": [],
   "source": [
    "train = pd.read_csv(\"../input/contradictory-my-dear-watson/train.csv\")"
   ]
  },
  {
   "cell_type": "markdown",
   "id": "813aabdf",
   "metadata": {
    "papermill": {
     "duration": 0.041858,
     "end_time": "2022-03-14T22:07:56.682423",
     "exception": false,
     "start_time": "2022-03-14T22:07:56.640565",
     "status": "completed"
    },
    "tags": []
   },
   "source": [
    "Let's take a quick look at the data:"
   ]
  },
  {
   "cell_type": "code",
   "execution_count": 6,
   "id": "08a944a6",
   "metadata": {
    "_cell_guid": "d3b9a632-7abb-4bef-acd3-9cba577dc2c0",
    "_uuid": "82e6d183-b8e1-412b-816f-c9020bac1428",
    "execution": {
     "iopub.execute_input": "2022-03-14T22:07:56.775027Z",
     "iopub.status.busy": "2022-03-14T22:07:56.774338Z",
     "iopub.status.idle": "2022-03-14T22:07:56.788396Z",
     "shell.execute_reply": "2022-03-14T22:07:56.788975Z",
     "shell.execute_reply.started": "2022-03-14T22:02:47.581966Z"
    },
    "papermill": {
     "duration": 0.064118,
     "end_time": "2022-03-14T22:07:56.789149",
     "exception": false,
     "start_time": "2022-03-14T22:07:56.725031",
     "status": "completed"
    },
    "tags": []
   },
   "outputs": [
    {
     "data": {
      "text/html": [
       "<div>\n",
       "<style scoped>\n",
       "    .dataframe tbody tr th:only-of-type {\n",
       "        vertical-align: middle;\n",
       "    }\n",
       "\n",
       "    .dataframe tbody tr th {\n",
       "        vertical-align: top;\n",
       "    }\n",
       "\n",
       "    .dataframe thead th {\n",
       "        text-align: right;\n",
       "    }\n",
       "</style>\n",
       "<table border=\"1\" class=\"dataframe\">\n",
       "  <thead>\n",
       "    <tr style=\"text-align: right;\">\n",
       "      <th></th>\n",
       "      <th>id</th>\n",
       "      <th>premise</th>\n",
       "      <th>hypothesis</th>\n",
       "      <th>lang_abv</th>\n",
       "      <th>language</th>\n",
       "      <th>label</th>\n",
       "    </tr>\n",
       "  </thead>\n",
       "  <tbody>\n",
       "    <tr>\n",
       "      <th>0</th>\n",
       "      <td>5130fd2cb5</td>\n",
       "      <td>and these comments were considered in formulat...</td>\n",
       "      <td>The rules developed in the interim were put to...</td>\n",
       "      <td>en</td>\n",
       "      <td>English</td>\n",
       "      <td>0</td>\n",
       "    </tr>\n",
       "    <tr>\n",
       "      <th>1</th>\n",
       "      <td>5b72532a0b</td>\n",
       "      <td>These are issues that we wrestle with in pract...</td>\n",
       "      <td>Practice groups are not permitted to work on t...</td>\n",
       "      <td>en</td>\n",
       "      <td>English</td>\n",
       "      <td>2</td>\n",
       "    </tr>\n",
       "    <tr>\n",
       "      <th>2</th>\n",
       "      <td>3931fbe82a</td>\n",
       "      <td>Des petites choses comme celles-là font une di...</td>\n",
       "      <td>J'essayais d'accomplir quelque chose.</td>\n",
       "      <td>fr</td>\n",
       "      <td>French</td>\n",
       "      <td>0</td>\n",
       "    </tr>\n",
       "    <tr>\n",
       "      <th>3</th>\n",
       "      <td>5622f0c60b</td>\n",
       "      <td>you know they can't really defend themselves l...</td>\n",
       "      <td>They can't defend themselves because of their ...</td>\n",
       "      <td>en</td>\n",
       "      <td>English</td>\n",
       "      <td>0</td>\n",
       "    </tr>\n",
       "    <tr>\n",
       "      <th>4</th>\n",
       "      <td>86aaa48b45</td>\n",
       "      <td>ในการเล่นบทบาทสมมุติก็เช่นกัน โอกาสที่จะได้แสด...</td>\n",
       "      <td>เด็กสามารถเห็นได้ว่าชาติพันธุ์แตกต่างกันอย่างไร</td>\n",
       "      <td>th</td>\n",
       "      <td>Thai</td>\n",
       "      <td>1</td>\n",
       "    </tr>\n",
       "  </tbody>\n",
       "</table>\n",
       "</div>"
      ],
      "text/plain": [
       "           id                                            premise  \\\n",
       "0  5130fd2cb5  and these comments were considered in formulat...   \n",
       "1  5b72532a0b  These are issues that we wrestle with in pract...   \n",
       "2  3931fbe82a  Des petites choses comme celles-là font une di...   \n",
       "3  5622f0c60b  you know they can't really defend themselves l...   \n",
       "4  86aaa48b45  ในการเล่นบทบาทสมมุติก็เช่นกัน โอกาสที่จะได้แสด...   \n",
       "\n",
       "                                          hypothesis lang_abv language  label  \n",
       "0  The rules developed in the interim were put to...       en  English      0  \n",
       "1  Practice groups are not permitted to work on t...       en  English      2  \n",
       "2              J'essayais d'accomplir quelque chose.       fr   French      0  \n",
       "3  They can't defend themselves because of their ...       en  English      0  \n",
       "4    เด็กสามารถเห็นได้ว่าชาติพันธุ์แตกต่างกันอย่างไร       th     Thai      1  "
      ]
     },
     "execution_count": 6,
     "metadata": {},
     "output_type": "execute_result"
    }
   ],
   "source": [
    "train.head()"
   ]
  },
  {
   "cell_type": "markdown",
   "id": "c3873f2c",
   "metadata": {
    "_cell_guid": "817c2470-9778-46e8-be86-fdd1b9449b93",
    "_uuid": "abfb11e9-865c-4b50-b0cc-9d25851618ff",
    "papermill": {
     "duration": 0.042631,
     "end_time": "2022-03-14T22:07:56.873511",
     "exception": false,
     "start_time": "2022-03-14T22:07:56.830880",
     "status": "completed"
    },
    "tags": []
   },
   "source": [
    "Let's look at one of the pairs of sentences."
   ]
  },
  {
   "cell_type": "code",
   "execution_count": 7,
   "id": "cb870c7d",
   "metadata": {
    "_cell_guid": "bcca3548-bb15-4868-86ec-95fe084d6e06",
    "_uuid": "dea716f0-9698-4a10-a7f1-1a0bb36054db",
    "execution": {
     "iopub.execute_input": "2022-03-14T22:07:56.960602Z",
     "iopub.status.busy": "2022-03-14T22:07:56.959926Z",
     "iopub.status.idle": "2022-03-14T22:07:56.967601Z",
     "shell.execute_reply": "2022-03-14T22:07:56.968183Z",
     "shell.execute_reply.started": "2022-03-14T22:02:47.583464Z"
    },
    "papermill": {
     "duration": 0.053109,
     "end_time": "2022-03-14T22:07:56.968344",
     "exception": false,
     "start_time": "2022-03-14T22:07:56.915235",
     "status": "completed"
    },
    "tags": []
   },
   "outputs": [
    {
     "data": {
      "text/plain": [
       "'These are issues that we wrestle with in practice groups of law firms, she said. '"
      ]
     },
     "execution_count": 7,
     "metadata": {},
     "output_type": "execute_result"
    }
   ],
   "source": [
    "train.premise.values[1]"
   ]
  },
  {
   "cell_type": "code",
   "execution_count": 8,
   "id": "6d0ca405",
   "metadata": {
    "_cell_guid": "15dcbe6c-4914-4400-a8fd-65b6e4cbf652",
    "_uuid": "5b639eff-aeea-4dca-b516-7e729cdeb741",
    "execution": {
     "iopub.execute_input": "2022-03-14T22:07:57.055512Z",
     "iopub.status.busy": "2022-03-14T22:07:57.054860Z",
     "iopub.status.idle": "2022-03-14T22:07:57.060647Z",
     "shell.execute_reply": "2022-03-14T22:07:57.061238Z",
     "shell.execute_reply.started": "2022-03-14T22:02:47.585078Z"
    },
    "papermill": {
     "duration": 0.051218,
     "end_time": "2022-03-14T22:07:57.061416",
     "exception": false,
     "start_time": "2022-03-14T22:07:57.010198",
     "status": "completed"
    },
    "tags": []
   },
   "outputs": [
    {
     "data": {
      "text/plain": [
       "'Practice groups are not permitted to work on these issues.'"
      ]
     },
     "execution_count": 8,
     "metadata": {},
     "output_type": "execute_result"
    }
   ],
   "source": [
    "train.hypothesis.values[1]"
   ]
  },
  {
   "cell_type": "code",
   "execution_count": 9,
   "id": "bbfc9fb9",
   "metadata": {
    "_cell_guid": "e16e8879-c565-4a29-bacc-26648659da29",
    "_uuid": "c63a91e0-05f7-4a67-acf8-2131ef50f054",
    "execution": {
     "iopub.execute_input": "2022-03-14T22:07:57.151231Z",
     "iopub.status.busy": "2022-03-14T22:07:57.150226Z",
     "iopub.status.idle": "2022-03-14T22:07:57.156514Z",
     "shell.execute_reply": "2022-03-14T22:07:57.157007Z",
     "shell.execute_reply.started": "2022-03-14T22:02:47.587007Z"
    },
    "papermill": {
     "duration": 0.053013,
     "end_time": "2022-03-14T22:07:57.157177",
     "exception": false,
     "start_time": "2022-03-14T22:07:57.104164",
     "status": "completed"
    },
    "tags": []
   },
   "outputs": [
    {
     "data": {
      "text/plain": [
       "2"
      ]
     },
     "execution_count": 9,
     "metadata": {},
     "output_type": "execute_result"
    }
   ],
   "source": [
    "train.label.values[1]"
   ]
  },
  {
   "cell_type": "code",
   "execution_count": 10,
   "id": "4dc6b625",
   "metadata": {
    "execution": {
     "iopub.execute_input": "2022-03-14T22:07:57.258464Z",
     "iopub.status.busy": "2022-03-14T22:07:57.257767Z",
     "iopub.status.idle": "2022-03-14T22:07:57.273979Z",
     "shell.execute_reply": "2022-03-14T22:07:57.273471Z",
     "shell.execute_reply.started": "2022-03-14T22:02:47.589296Z"
    },
    "papermill": {
     "duration": 0.074024,
     "end_time": "2022-03-14T22:07:57.274121",
     "exception": false,
     "start_time": "2022-03-14T22:07:57.200097",
     "status": "completed"
    },
    "tags": []
   },
   "outputs": [
    {
     "name": "stdout",
     "output_type": "stream",
     "text": [
      "<class 'pandas.core.frame.DataFrame'>\n",
      "RangeIndex: 12120 entries, 0 to 12119\n",
      "Data columns (total 6 columns):\n",
      " #   Column      Non-Null Count  Dtype \n",
      "---  ------      --------------  ----- \n",
      " 0   id          12120 non-null  object\n",
      " 1   premise     12120 non-null  object\n",
      " 2   hypothesis  12120 non-null  object\n",
      " 3   lang_abv    12120 non-null  object\n",
      " 4   language    12120 non-null  object\n",
      " 5   label       12120 non-null  int64 \n",
      "dtypes: int64(1), object(5)\n",
      "memory usage: 568.2+ KB\n"
     ]
    }
   ],
   "source": [
    "train.info()"
   ]
  },
  {
   "cell_type": "markdown",
   "id": "66be0eb9",
   "metadata": {
    "papermill": {
     "duration": 0.043145,
     "end_time": "2022-03-14T22:07:57.361109",
     "exception": false,
     "start_time": "2022-03-14T22:07:57.317964",
     "status": "completed"
    },
    "tags": []
   },
   "source": [
    "No null data, so no need for any imptuation."
   ]
  },
  {
   "cell_type": "code",
   "execution_count": 11,
   "id": "c30f59f5",
   "metadata": {
    "execution": {
     "iopub.execute_input": "2022-03-14T22:07:57.451391Z",
     "iopub.status.busy": "2022-03-14T22:07:57.450719Z",
     "iopub.status.idle": "2022-03-14T22:07:57.466203Z",
     "shell.execute_reply": "2022-03-14T22:07:57.465598Z",
     "shell.execute_reply.started": "2022-03-14T22:02:47.590884Z"
    },
    "papermill": {
     "duration": 0.061887,
     "end_time": "2022-03-14T22:07:57.466337",
     "exception": false,
     "start_time": "2022-03-14T22:07:57.404450",
     "status": "completed"
    },
    "tags": []
   },
   "outputs": [
    {
     "data": {
      "text/html": [
       "<div>\n",
       "<style scoped>\n",
       "    .dataframe tbody tr th:only-of-type {\n",
       "        vertical-align: middle;\n",
       "    }\n",
       "\n",
       "    .dataframe tbody tr th {\n",
       "        vertical-align: top;\n",
       "    }\n",
       "\n",
       "    .dataframe thead th {\n",
       "        text-align: right;\n",
       "    }\n",
       "</style>\n",
       "<table border=\"1\" class=\"dataframe\">\n",
       "  <thead>\n",
       "    <tr style=\"text-align: right;\">\n",
       "      <th></th>\n",
       "      <th>label</th>\n",
       "    </tr>\n",
       "  </thead>\n",
       "  <tbody>\n",
       "    <tr>\n",
       "      <th>count</th>\n",
       "      <td>12120.000000</td>\n",
       "    </tr>\n",
       "    <tr>\n",
       "      <th>mean</th>\n",
       "      <td>0.990759</td>\n",
       "    </tr>\n",
       "    <tr>\n",
       "      <th>std</th>\n",
       "      <td>0.824523</td>\n",
       "    </tr>\n",
       "    <tr>\n",
       "      <th>min</th>\n",
       "      <td>0.000000</td>\n",
       "    </tr>\n",
       "    <tr>\n",
       "      <th>25%</th>\n",
       "      <td>0.000000</td>\n",
       "    </tr>\n",
       "    <tr>\n",
       "      <th>50%</th>\n",
       "      <td>1.000000</td>\n",
       "    </tr>\n",
       "    <tr>\n",
       "      <th>75%</th>\n",
       "      <td>2.000000</td>\n",
       "    </tr>\n",
       "    <tr>\n",
       "      <th>max</th>\n",
       "      <td>2.000000</td>\n",
       "    </tr>\n",
       "  </tbody>\n",
       "</table>\n",
       "</div>"
      ],
      "text/plain": [
       "              label\n",
       "count  12120.000000\n",
       "mean       0.990759\n",
       "std        0.824523\n",
       "min        0.000000\n",
       "25%        0.000000\n",
       "50%        1.000000\n",
       "75%        2.000000\n",
       "max        2.000000"
      ]
     },
     "execution_count": 11,
     "metadata": {},
     "output_type": "execute_result"
    }
   ],
   "source": [
    "train.describe()"
   ]
  },
  {
   "cell_type": "markdown",
   "id": "7dcb9f1e",
   "metadata": {
    "papermill": {
     "duration": 0.043394,
     "end_time": "2022-03-14T22:07:57.554276",
     "exception": false,
     "start_time": "2022-03-14T22:07:57.510882",
     "status": "completed"
    },
    "tags": []
   },
   "source": [
    "Let's look at the language frequencies:"
   ]
  },
  {
   "cell_type": "code",
   "execution_count": 12,
   "id": "445d7d39",
   "metadata": {
    "_cell_guid": "7d9b43ef-4ac1-40d5-aebc-a162f1b9a6c0",
    "_uuid": "7243f511-d81e-436c-971f-6328b7c0cf43",
    "execution": {
     "iopub.execute_input": "2022-03-14T22:07:57.663167Z",
     "iopub.status.busy": "2022-03-14T22:07:57.662132Z",
     "iopub.status.idle": "2022-03-14T22:07:57.916566Z",
     "shell.execute_reply": "2022-03-14T22:07:57.917085Z",
     "shell.execute_reply.started": "2022-03-14T22:02:47.592690Z"
    },
    "papermill": {
     "duration": 0.319557,
     "end_time": "2022-03-14T22:07:57.917271",
     "exception": false,
     "start_time": "2022-03-14T22:07:57.597714",
     "status": "completed"
    },
    "tags": []
   },
   "outputs": [
    {
     "data": {
      "image/png": "[encoded data removed]",
      "text/plain": [
       "<Figure size 720x720 with 1 Axes>"
      ]
     },
     "metadata": {},
     "output_type": "display_data"
    }
   ],
   "source": [
    "labels, frequencies = np.unique(train.language.values, return_counts = True)\n",
    "\n",
    "plt.figure(figsize = (10,10))\n",
    "plt.pie(frequencies,labels = labels, autopct = '%1.1f%%')\n",
    "plt.show()"
   ]
  },
  {
   "cell_type": "markdown",
   "id": "696b5f7f",
   "metadata": {
    "papermill": {
     "duration": 0.046074,
     "end_time": "2022-03-14T22:07:58.009993",
     "exception": false,
     "start_time": "2022-03-14T22:07:57.963919",
     "status": "completed"
    },
    "tags": []
   },
   "source": [
    "Look at distribution of each label:"
   ]
  },
  {
   "cell_type": "code",
   "execution_count": 13,
   "id": "0689dfc6",
   "metadata": {
    "execution": {
     "iopub.execute_input": "2022-03-14T22:07:58.121052Z",
     "iopub.status.busy": "2022-03-14T22:07:58.120320Z",
     "iopub.status.idle": "2022-03-14T22:07:58.270775Z",
     "shell.execute_reply": "2022-03-14T22:07:58.271261Z",
     "shell.execute_reply.started": "2022-03-14T22:02:47.594094Z"
    },
    "papermill": {
     "duration": 0.214938,
     "end_time": "2022-03-14T22:07:58.271453",
     "exception": false,
     "start_time": "2022-03-14T22:07:58.056515",
     "status": "completed"
    },
    "tags": []
   },
   "outputs": [
    {
     "data": {
      "image/png": "[encoded data removed]",
      "text/plain": [
       "<Figure size 432x288 with 1 Axes>"
      ]
     },
     "metadata": {
      "needs_background": "light"
     },
     "output_type": "display_data"
    }
   ],
   "source": [
    "fig, ax = plt.subplots()\n",
    "\n",
    "ax.hist(train.label, bins=3, linewidth=0.5, edgecolor=\"white\")\n",
    "\n",
    "ax.set(xlim=(0, 2))\n",
    "\n",
    "plt.show()"
   ]
  },
  {
   "cell_type": "markdown",
   "id": "fa808f5c",
   "metadata": {
    "papermill": {
     "duration": 0.046029,
     "end_time": "2022-03-14T22:07:58.364002",
     "exception": false,
     "start_time": "2022-03-14T22:07:58.317973",
     "status": "completed"
    },
    "tags": []
   },
   "source": [
    "Roughly equal split. Let's see if the same holds when we factor in the language:"
   ]
  },
  {
   "cell_type": "code",
   "execution_count": 14,
   "id": "4b1edf10",
   "metadata": {
    "execution": {
     "iopub.execute_input": "2022-03-14T22:07:58.460317Z",
     "iopub.status.busy": "2022-03-14T22:07:58.459635Z",
     "iopub.status.idle": "2022-03-14T22:07:59.891964Z",
     "shell.execute_reply": "2022-03-14T22:07:59.892501Z",
     "shell.execute_reply.started": "2022-03-14T22:02:47.596285Z"
    },
    "papermill": {
     "duration": 1.481824,
     "end_time": "2022-03-14T22:07:59.892681",
     "exception": false,
     "start_time": "2022-03-14T22:07:58.410857",
     "status": "completed"
    },
    "tags": []
   },
   "outputs": [
    {
     "data": {
      "image/png": "[encoded data removed]",
      "text/plain": [
       "<Figure size 1080x1080 with 15 Axes>"
      ]
     },
     "metadata": {},
     "output_type": "display_data"
    }
   ],
   "source": [
    "languages = train.language.unique()\n",
    "\n",
    "fig, ax = plt.subplots(3,5, figsize = (15,15))\n",
    "\n",
    "for i in range(1,4):\n",
    "    for j in range(1,6):\n",
    "        train_1 = train[train[\"language\"]==languages[5*(i-1)+j-1]]\n",
    "        labels, frequencies = np.unique(train_1.label.values, return_counts = True)\n",
    "        plt.subplot(3,5,5*(i-1)+j)\n",
    "        plt.pie(frequencies,labels = labels, autopct = '%1.1f%%')\n",
    "        plt.title(languages[5*(i-1)+j-1])\n",
    "\n",
    "plt.show()"
   ]
  },
  {
   "cell_type": "markdown",
   "id": "06592b0f",
   "metadata": {
    "papermill": {
     "duration": 0.049279,
     "end_time": "2022-03-14T22:07:59.992471",
     "exception": false,
     "start_time": "2022-03-14T22:07:59.943192",
     "status": "completed"
    },
    "tags": []
   },
   "source": [
    "There is a roughly even split across all labels for all languages. "
   ]
  },
  {
   "cell_type": "markdown",
   "id": "5c282762",
   "metadata": {
    "_cell_guid": "a7f5d429-083e-4d81-883f-e032dfb0e236",
    "_uuid": "68cee874-838e-4f0e-9f80-bfebc4a295d0",
    "papermill": {
     "duration": 0.049387,
     "end_time": "2022-03-14T22:08:00.092302",
     "exception": false,
     "start_time": "2022-03-14T22:08:00.042915",
     "status": "completed"
    },
    "tags": []
   },
   "source": [
    "## Preparing Data for Input"
   ]
  },
  {
   "cell_type": "markdown",
   "id": "6996f83f",
   "metadata": {
    "_cell_guid": "f20a33db-a377-43b6-825e-157456ed1092",
    "_uuid": "27e66828-76b9-44f4-ba79-66fe0cb8f922",
    "papermill": {
     "duration": 0.049388,
     "end_time": "2022-03-14T22:08:00.191342",
     "exception": false,
     "start_time": "2022-03-14T22:08:00.141954",
     "status": "completed"
    },
    "tags": []
   },
   "source": [
    "We'll use the pretrained multilingual BERT model from huggingface."
   ]
  },
  {
   "cell_type": "code",
   "execution_count": 15,
   "id": "4a362b3a",
   "metadata": {
    "_cell_guid": "ddc3e65e-24a4-43dc-98f0-194655d17cfd",
    "_uuid": "0af7b876-e719-474a-b6a5-fef500624b83",
    "execution": {
     "iopub.execute_input": "2022-03-14T22:08:00.295638Z",
     "iopub.status.busy": "2022-03-14T22:08:00.294646Z",
     "iopub.status.idle": "2022-03-14T22:08:02.410264Z",
     "shell.execute_reply": "2022-03-14T22:08:02.409665Z",
     "shell.execute_reply.started": "2022-03-14T22:02:47.597741Z"
    },
    "papermill": {
     "duration": 2.169627,
     "end_time": "2022-03-14T22:08:02.410423",
     "exception": false,
     "start_time": "2022-03-14T22:08:00.240796",
     "status": "completed"
    },
    "tags": []
   },
   "outputs": [
    {
     "data": {
      "application/vnd.jupyter.widget-view+json": {
       "model_id": "4c1939b3b2ce4b47a7dba433ba949b71",
       "version_major": 2,
       "version_minor": 0
      },
      "text/plain": [
       "Downloading:   0%|          | 0.00/996k [00:00<?, ?B/s]"
      ]
     },
     "metadata": {},
     "output_type": "display_data"
    },
    {
     "data": {
      "application/vnd.jupyter.widget-view+json": {
       "model_id": "63d1d0cda42d4089aad4e1acf59afd3e",
       "version_major": 2,
       "version_minor": 0
      },
      "text/plain": [
       "Downloading:   0%|          | 0.00/29.0 [00:00<?, ?B/s]"
      ]
     },
     "metadata": {},
     "output_type": "display_data"
    },
    {
     "data": {
      "application/vnd.jupyter.widget-view+json": {
       "model_id": "d39741393add439a8ef12c27f16e60ee",
       "version_major": 2,
       "version_minor": 0
      },
      "text/plain": [
       "Downloading:   0%|          | 0.00/1.96M [00:00<?, ?B/s]"
      ]
     },
     "metadata": {},
     "output_type": "display_data"
    }
   ],
   "source": [
    "model_name = 'bert-base-multilingual-cased'\n",
    "tokenizer = BertTokenizer.from_pretrained(model_name)"
   ]
  },
  {
   "cell_type": "markdown",
   "id": "29d30fcf",
   "metadata": {
    "_cell_guid": "f6f4ab91-c9b5-4861-a400-89969200b7f4",
    "_uuid": "a6088f3d-8778-4a6c-82b0-db6a5461ec95",
    "papermill": {
     "duration": 0.050765,
     "end_time": "2022-03-14T22:08:02.512516",
     "exception": false,
     "start_time": "2022-03-14T22:08:02.461751",
     "status": "completed"
    },
    "tags": []
   },
   "source": [
    "Let's define a function to implement the tokenizer:"
   ]
  },
  {
   "cell_type": "code",
   "execution_count": 16,
   "id": "0e8175b7",
   "metadata": {
    "_cell_guid": "55838dc3-c459-4097-b5b2-44d049429e25",
    "_uuid": "2cd597c4-6204-44ba-869a-fbf7c32c711d",
    "execution": {
     "iopub.execute_input": "2022-03-14T22:08:02.623319Z",
     "iopub.status.busy": "2022-03-14T22:08:02.622691Z",
     "iopub.status.idle": "2022-03-14T22:08:02.625397Z",
     "shell.execute_reply": "2022-03-14T22:08:02.624845Z",
     "shell.execute_reply.started": "2022-03-14T22:02:47.600404Z"
    },
    "papermill": {
     "duration": 0.05921,
     "end_time": "2022-03-14T22:08:02.625551",
     "exception": false,
     "start_time": "2022-03-14T22:08:02.566341",
     "status": "completed"
    },
    "tags": []
   },
   "outputs": [],
   "source": [
    "def encode_sentence(s):\n",
    "   tokens = list(tokenizer.tokenize(s))\n",
    "   tokens.append('[SEP]')\n",
    "   return tokenizer.convert_tokens_to_ids(tokens)"
   ]
  },
  {
   "cell_type": "markdown",
   "id": "ed6e57a7",
   "metadata": {
    "papermill": {
     "duration": 0.052206,
     "end_time": "2022-03-14T22:08:02.728893",
     "exception": false,
     "start_time": "2022-03-14T22:08:02.676687",
     "status": "completed"
    },
    "tags": []
   },
   "source": [
    "Example:"
   ]
  },
  {
   "cell_type": "code",
   "execution_count": 17,
   "id": "125fbcc2",
   "metadata": {
    "_cell_guid": "f05a9baa-b7fa-44da-89dd-04fdfc149cba",
    "_uuid": "797de062-6743-4455-9ead-73527bf6c3b6",
    "execution": {
     "iopub.execute_input": "2022-03-14T22:08:02.840770Z",
     "iopub.status.busy": "2022-03-14T22:08:02.839948Z",
     "iopub.status.idle": "2022-03-14T22:08:02.844918Z",
     "shell.execute_reply": "2022-03-14T22:08:02.844336Z",
     "shell.execute_reply.started": "2022-03-14T22:02:47.601745Z"
    },
    "papermill": {
     "duration": 0.063977,
     "end_time": "2022-03-14T22:08:02.845064",
     "exception": false,
     "start_time": "2022-03-14T22:08:02.781087",
     "status": "completed"
    },
    "tags": []
   },
   "outputs": [
    {
     "data": {
      "text/plain": [
       "[146, 16138, 21432, 26901, 102]"
      ]
     },
     "execution_count": 17,
     "metadata": {},
     "output_type": "execute_result"
    }
   ],
   "source": [
    "encode_sentence(\"I love machine learning\")"
   ]
  },
  {
   "cell_type": "markdown",
   "id": "3bb86b0f",
   "metadata": {
    "_cell_guid": "e80e3fcd-513e-4d14-88fd-9417b746c107",
    "_uuid": "1fb6acf3-3c19-494e-83bd-84d6d933e6f0",
    "papermill": {
     "duration": 0.052759,
     "end_time": "2022-03-14T22:08:02.950430",
     "exception": false,
     "start_time": "2022-03-14T22:08:02.897671",
     "status": "completed"
    },
    "tags": []
   },
   "source": [
    "BERT uses three kind of input data- input word IDs, input masks, and input type IDs.\n",
    "\n",
    "These allow the model to know that the premise and hypothesis are distinct sentences, and also to ignore any padding from the tokenizer.\n",
    "\n",
    "We add a [CLS] token to denote the beginning of the inputs, and a [SEP] token to denote the separation between the premise and the hypothesis. We also need to pad all of the inputs to be the same size. For more information about BERT inputs, see: https://huggingface.co/transformers/model_doc/bert.html#tfbertmodel\n",
    "\n",
    "Now, we're going to encode all of our premise/hypothesis pairs for input into BERT."
   ]
  },
  {
   "cell_type": "code",
   "execution_count": 18,
   "id": "d5856aaa",
   "metadata": {
    "_cell_guid": "037b0a29-3e6d-42b6-b13a-328fab19d15d",
    "_uuid": "dedb18d0-63cb-492b-8fe0-b4ebb8819e4c",
    "execution": {
     "iopub.execute_input": "2022-03-14T22:08:03.064404Z",
     "iopub.status.busy": "2022-03-14T22:08:03.063641Z",
     "iopub.status.idle": "2022-03-14T22:08:03.065999Z",
     "shell.execute_reply": "2022-03-14T22:08:03.065380Z",
     "shell.execute_reply.started": "2022-03-14T22:02:47.604038Z"
    },
    "papermill": {
     "duration": 0.063358,
     "end_time": "2022-03-14T22:08:03.066135",
     "exception": false,
     "start_time": "2022-03-14T22:08:03.002777",
     "status": "completed"
    },
    "tags": []
   },
   "outputs": [],
   "source": [
    "def bert_encode(hypotheses, premises, tokenizer):\n",
    "    \n",
    "  num_examples = len(hypotheses)\n",
    "  \n",
    "  sentence1 = tf.ragged.constant([\n",
    "      encode_sentence(s)\n",
    "      for s in np.array(hypotheses)])\n",
    "  sentence2 = tf.ragged.constant([\n",
    "      encode_sentence(s)\n",
    "       for s in np.array(premises)])\n",
    "\n",
    "  cls = [tokenizer.convert_tokens_to_ids(['[CLS]'])]*sentence1.shape[0]\n",
    "  input_word_ids = tf.concat([cls, sentence1, sentence2], axis=-1)\n",
    "\n",
    "  input_mask = tf.ones_like(input_word_ids).to_tensor()\n",
    "\n",
    "  type_cls = tf.zeros_like(cls)\n",
    "  type_s1 = tf.zeros_like(sentence1)\n",
    "  type_s2 = tf.ones_like(sentence2)\n",
    "  input_type_ids = tf.concat(\n",
    "      [type_cls, type_s1, type_s2], axis=-1).to_tensor()\n",
    "\n",
    "  inputs = {\n",
    "      'input_word_ids': input_word_ids.to_tensor(),\n",
    "      'input_mask': input_mask,\n",
    "      'input_type_ids': input_type_ids}\n",
    "\n",
    "  return inputs"
   ]
  },
  {
   "cell_type": "code",
   "execution_count": 19,
   "id": "aed52280",
   "metadata": {
    "_cell_guid": "fc14d779-d0c6-4585-8e80-ebf539bd132c",
    "_uuid": "697579c5-9f89-421c-8cbc-4321a7c93179",
    "execution": {
     "iopub.execute_input": "2022-03-14T22:08:03.217897Z",
     "iopub.status.busy": "2022-03-14T22:08:03.212768Z",
     "iopub.status.idle": "2022-03-14T22:08:17.758788Z",
     "shell.execute_reply": "2022-03-14T22:08:17.759407Z",
     "shell.execute_reply.started": "2022-03-14T22:02:47.605477Z"
    },
    "papermill": {
     "duration": 14.640631,
     "end_time": "2022-03-14T22:08:17.759665",
     "exception": false,
     "start_time": "2022-03-14T22:08:03.119034",
     "status": "completed"
    },
    "tags": []
   },
   "outputs": [],
   "source": [
    "train_input = bert_encode(train.premise.values, train.hypothesis.values, tokenizer)"
   ]
  },
  {
   "cell_type": "code",
   "execution_count": 20,
   "id": "56016436",
   "metadata": {
    "execution": {
     "iopub.execute_input": "2022-03-14T22:08:17.869663Z",
     "iopub.status.busy": "2022-03-14T22:08:17.868194Z",
     "iopub.status.idle": "2022-03-14T22:08:17.940352Z",
     "shell.execute_reply": "2022-03-14T22:08:17.939863Z",
     "shell.execute_reply.started": "2022-03-14T22:02:47.607574Z"
    },
    "papermill": {
     "duration": 0.128191,
     "end_time": "2022-03-14T22:08:17.940522",
     "exception": false,
     "start_time": "2022-03-14T22:08:17.812331",
     "status": "completed"
    },
    "tags": []
   },
   "outputs": [
    {
     "data": {
      "text/plain": [
       "{'input_word_ids': <tf.Tensor: shape=(12120, 259), dtype=int32, numpy=\n",
       " array([[  101, 10111, 11762, ...,     0,     0,     0],\n",
       "        [  101, 13252, 10301, ...,     0,     0,     0],\n",
       "        [  101, 13810, 32181, ...,     0,     0,     0],\n",
       "        ...,\n",
       "        [  101, 10117, 12452, ...,     0,     0,     0],\n",
       "        [  101, 11699, 10105, ...,     0,     0,     0],\n",
       "        [  101, 11399, 14764, ...,     0,     0,     0]], dtype=int32)>,\n",
       " 'input_mask': <tf.Tensor: shape=(12120, 259), dtype=int32, numpy=\n",
       " array([[1, 1, 1, ..., 0, 0, 0],\n",
       "        [1, 1, 1, ..., 0, 0, 0],\n",
       "        [1, 1, 1, ..., 0, 0, 0],\n",
       "        ...,\n",
       "        [1, 1, 1, ..., 0, 0, 0],\n",
       "        [1, 1, 1, ..., 0, 0, 0],\n",
       "        [1, 1, 1, ..., 0, 0, 0]], dtype=int32)>,\n",
       " 'input_type_ids': <tf.Tensor: shape=(12120, 259), dtype=int32, numpy=\n",
       " array([[0, 0, 0, ..., 0, 0, 0],\n",
       "        [0, 0, 0, ..., 0, 0, 0],\n",
       "        [0, 0, 0, ..., 0, 0, 0],\n",
       "        ...,\n",
       "        [0, 0, 0, ..., 0, 0, 0],\n",
       "        [0, 0, 0, ..., 0, 0, 0],\n",
       "        [0, 0, 0, ..., 0, 0, 0]], dtype=int32)>}"
      ]
     },
     "execution_count": 20,
     "metadata": {},
     "output_type": "execute_result"
    }
   ],
   "source": [
    "train_input"
   ]
  },
  {
   "cell_type": "markdown",
   "id": "e5c13d12",
   "metadata": {
    "_cell_guid": "3dbd7066-6469-4823-8e09-e2dfa0a68bcc",
    "_uuid": "e1bf9ee4-e872-45d8-a118-a72eb7917d8b",
    "papermill": {
     "duration": 0.05176,
     "end_time": "2022-03-14T22:08:18.045297",
     "exception": false,
     "start_time": "2022-03-14T22:08:17.993537",
     "status": "completed"
    },
    "tags": []
   },
   "source": [
    "## Creating & Training Model"
   ]
  },
  {
   "cell_type": "markdown",
   "id": "71922c1f",
   "metadata": {
    "_cell_guid": "7ebc4032-48bf-4bbd-8244-6b4ee38a1f56",
    "_uuid": "33811793-9df3-4d97-84c3-c5367a130cd7",
    "papermill": {
     "duration": 0.051887,
     "end_time": "2022-03-14T22:08:18.149219",
     "exception": false,
     "start_time": "2022-03-14T22:08:18.097332",
     "status": "completed"
    },
    "tags": []
   },
   "source": [
    "Now, we can incorporate the BERT transformer into a Keras Functional Model. Ideally, we would tune the parameters to better fit our needs, but here we will simply do a basic implementation."
   ]
  },
  {
   "cell_type": "code",
   "execution_count": 21,
   "id": "f2264239",
   "metadata": {
    "_cell_guid": "69f90af1-4d66-4b83-a264-df23a3a68e26",
    "_uuid": "1094f3ff-6b5b-4b15-9d93-b0065ae586bd",
    "execution": {
     "iopub.execute_input": "2022-03-14T22:08:18.263426Z",
     "iopub.status.busy": "2022-03-14T22:08:18.262485Z",
     "iopub.status.idle": "2022-03-14T22:08:18.266936Z",
     "shell.execute_reply": "2022-03-14T22:08:18.266408Z",
     "shell.execute_reply.started": "2022-03-14T22:02:47.609598Z"
    },
    "papermill": {
     "duration": 0.066194,
     "end_time": "2022-03-14T22:08:18.267075",
     "exception": false,
     "start_time": "2022-03-14T22:08:18.200881",
     "status": "completed"
    },
    "tags": []
   },
   "outputs": [],
   "source": [
    "max_len = 259\n",
    "\n",
    "def build_model():\n",
    "    bert_encoder = TFBertModel.from_pretrained(model_name)\n",
    "    input_word_ids = tf.keras.Input(shape=(max_len,), dtype=tf.int32, name=\"input_word_ids\")\n",
    "    input_mask = tf.keras.Input(shape=(max_len,), dtype=tf.int32, name=\"input_mask\")\n",
    "    input_type_ids = tf.keras.Input(shape=(max_len,), dtype=tf.int32, name=\"input_type_ids\")\n",
    "    \n",
    "    embedding = bert_encoder([input_word_ids, input_mask, input_type_ids])[0]\n",
    "    output = tf.keras.layers.Dense(3, activation='softmax')(embedding[:,0,:])\n",
    "    \n",
    "    model = tf.keras.Model(inputs=[input_word_ids, input_mask, input_type_ids], outputs=output)\n",
    "    model.compile(tf.keras.optimizers.Adam(lr=1e-5), loss='sparse_categorical_crossentropy', metrics=['accuracy'])\n",
    "    \n",
    "    return model"
   ]
  },
  {
   "cell_type": "code",
   "execution_count": 22,
   "id": "a898004c",
   "metadata": {
    "_cell_guid": "97885b33-70f1-4d14-b788-fd1a650d5a57",
    "_uuid": "47c8cc2f-a7b9-4bae-971b-e41277b45c8b",
    "execution": {
     "iopub.execute_input": "2022-03-14T22:08:18.378958Z",
     "iopub.status.busy": "2022-03-14T22:08:18.378222Z",
     "iopub.status.idle": "2022-03-14T22:09:17.362209Z",
     "shell.execute_reply": "2022-03-14T22:09:17.363185Z",
     "shell.execute_reply.started": "2022-03-14T22:02:47.611696Z"
    },
    "papermill": {
     "duration": 59.043895,
     "end_time": "2022-03-14T22:09:17.363610",
     "exception": false,
     "start_time": "2022-03-14T22:08:18.319715",
     "status": "completed"
    },
    "tags": []
   },
   "outputs": [
    {
     "data": {
      "application/vnd.jupyter.widget-view+json": {
       "model_id": "0514df6cfa054d0ebf66a2ab21b2deb0",
       "version_major": 2,
       "version_minor": 0
      },
      "text/plain": [
       "Downloading:   0%|          | 0.00/625 [00:00<?, ?B/s]"
      ]
     },
     "metadata": {},
     "output_type": "display_data"
    },
    {
     "data": {
      "application/vnd.jupyter.widget-view+json": {
       "model_id": "d58e290cac2c4e62babfe62a8e2152e3",
       "version_major": 2,
       "version_minor": 0
      },
      "text/plain": [
       "Downloading:   0%|          | 0.00/1.08G [00:00<?, ?B/s]"
      ]
     },
     "metadata": {},
     "output_type": "display_data"
    },
    {
     "name": "stderr",
     "output_type": "stream",
     "text": [
      "Some layers from the model checkpoint at bert-base-multilingual-cased were not used when initializing TFBertModel: ['nsp___cls', 'mlm___cls']\n",
      "- This IS expected if you are initializing TFBertModel from the checkpoint of a model trained on another task or with another architecture (e.g. initializing a BertForSequenceClassification model from a BertForPreTraining model).\n",
      "- This IS NOT expected if you are initializing TFBertModel from the checkpoint of a model that you expect to be exactly identical (initializing a BertForSequenceClassification model from a BertForSequenceClassification model).\n",
      "All the layers of TFBertModel were initialized from the model checkpoint at bert-base-multilingual-cased.\n",
      "If your task is similar to the task the model of the checkpoint was trained on, you can already use TFBertModel for predictions without further training.\n"
     ]
    },
    {
     "name": "stdout",
     "output_type": "stream",
     "text": [
      "Model: \"model\"\n",
      "__________________________________________________________________________________________________\n",
      "Layer (type)                    Output Shape         Param #     Connected to                     \n",
      "==================================================================================================\n",
      "input_word_ids (InputLayer)     [(None, 259)]        0                                            \n",
      "__________________________________________________________________________________________________\n",
      "input_mask (InputLayer)         [(None, 259)]        0                                            \n",
      "__________________________________________________________________________________________________\n",
      "input_type_ids (InputLayer)     [(None, 259)]        0                                            \n",
      "__________________________________________________________________________________________________\n",
      "tf_bert_model (TFBertModel)     TFBaseModelOutputWit 177853440   input_word_ids[0][0]             \n",
      "                                                                 input_mask[0][0]                 \n",
      "                                                                 input_type_ids[0][0]             \n",
      "__________________________________________________________________________________________________\n",
      "tf.__operators__.getitem (Slici (None, 768)          0           tf_bert_model[0][0]              \n",
      "__________________________________________________________________________________________________\n",
      "dense (Dense)                   (None, 3)            2307        tf.__operators__.getitem[0][0]   \n",
      "==================================================================================================\n",
      "Total params: 177,855,747\n",
      "Trainable params: 177,855,747\n",
      "Non-trainable params: 0\n",
      "__________________________________________________________________________________________________\n"
     ]
    }
   ],
   "source": [
    "with strategy.scope():\n",
    "    model = build_model()\n",
    "    model.summary()"
   ]
  },
  {
   "cell_type": "markdown",
   "id": "f48b7caa",
   "metadata": {
    "papermill": {
     "duration": 0.061991,
     "end_time": "2022-03-14T22:09:17.479665",
     "exception": false,
     "start_time": "2022-03-14T22:09:17.417674",
     "status": "completed"
    },
    "tags": []
   },
   "source": [
    "We will only do a couple of epochs here to minimise the training time, but ideally we would test different parameters on a validation set, perhaps using cross-validation with some sort of search method (e.g. sklearn.model_selection.RandomizedSearchCV). "
   ]
  },
  {
   "cell_type": "code",
   "execution_count": 23,
   "id": "1beacc20",
   "metadata": {
    "_cell_guid": "0423d993-8ff5-4ab9-bc47-87e1cb74c0c5",
    "_uuid": "316f4376-9df7-40ea-bbbd-ae46eb5562e5",
    "execution": {
     "iopub.execute_input": "2022-03-14T22:09:17.610580Z",
     "iopub.status.busy": "2022-03-14T22:09:17.609321Z",
     "iopub.status.idle": "2022-03-14T22:12:08.880177Z",
     "shell.execute_reply": "2022-03-14T22:12:08.879607Z",
     "shell.execute_reply.started": "2022-03-14T22:02:47.613971Z"
    },
    "papermill": {
     "duration": 171.340687,
     "end_time": "2022-03-14T22:12:08.880340",
     "exception": false,
     "start_time": "2022-03-14T22:09:17.539653",
     "status": "completed"
    },
    "tags": []
   },
   "outputs": [
    {
     "name": "stdout",
     "output_type": "stream",
     "text": [
      "Epoch 1/2\n",
      "152/152 [==============================] - 151s 514ms/step - loss: 1.0918 - accuracy: 0.4192 - val_loss: 0.8398 - val_accuracy: 0.6262\n",
      "Epoch 2/2\n",
      "152/152 [==============================] - 19s 128ms/step - loss: 0.7952 - accuracy: 0.6495 - val_loss: 0.8066 - val_accuracy: 0.6481\n"
     ]
    },
    {
     "data": {
      "text/plain": [
       "<tensorflow.python.keras.callbacks.History at 0x7fbbbd51b4d0>"
      ]
     },
     "execution_count": 23,
     "metadata": {},
     "output_type": "execute_result"
    }
   ],
   "source": [
    "model.fit(train_input, train.label.values, epochs = 2, verbose = 1, batch_size = 64, validation_split = 0.2)"
   ]
  },
  {
   "cell_type": "code",
   "execution_count": 24,
   "id": "30c1773e",
   "metadata": {
    "_cell_guid": "e26cba08-7fe9-4e2e-ab2e-062a26a5fcac",
    "_uuid": "3bfd96e9-cf2c-41ad-bdcc-8c31408f05bd",
    "execution": {
     "iopub.execute_input": "2022-03-14T22:12:09.182598Z",
     "iopub.status.busy": "2022-03-14T22:12:09.181852Z",
     "iopub.status.idle": "2022-03-14T22:12:15.560930Z",
     "shell.execute_reply": "2022-03-14T22:12:15.560278Z",
     "shell.execute_reply.started": "2022-03-14T22:02:47.615497Z"
    },
    "papermill": {
     "duration": 6.531178,
     "end_time": "2022-03-14T22:12:15.561092",
     "exception": false,
     "start_time": "2022-03-14T22:12:09.029914",
     "status": "completed"
    },
    "tags": []
   },
   "outputs": [],
   "source": [
    "test = pd.read_csv(\"../input/contradictory-my-dear-watson/test.csv\")\n",
    "test_input = bert_encode(test.premise.values, test.hypothesis.values, tokenizer)"
   ]
  },
  {
   "cell_type": "code",
   "execution_count": 25,
   "id": "e12545de",
   "metadata": {
    "execution": {
     "iopub.execute_input": "2022-03-14T22:12:15.877740Z",
     "iopub.status.busy": "2022-03-14T22:12:15.869632Z",
     "iopub.status.idle": "2022-03-14T22:12:15.880317Z",
     "shell.execute_reply": "2022-03-14T22:12:15.881049Z",
     "shell.execute_reply.started": "2022-03-14T22:02:47.616718Z"
    },
    "papermill": {
     "duration": 0.170173,
     "end_time": "2022-03-14T22:12:15.881285",
     "exception": false,
     "start_time": "2022-03-14T22:12:15.711112",
     "status": "completed"
    },
    "tags": []
   },
   "outputs": [
    {
     "name": "stdout",
     "output_type": "stream",
     "text": [
      "<class 'pandas.core.frame.DataFrame'>\n",
      "RangeIndex: 5195 entries, 0 to 5194\n",
      "Data columns (total 5 columns):\n",
      " #   Column      Non-Null Count  Dtype \n",
      "---  ------      --------------  ----- \n",
      " 0   id          5195 non-null   object\n",
      " 1   premise     5195 non-null   object\n",
      " 2   hypothesis  5195 non-null   object\n",
      " 3   lang_abv    5195 non-null   object\n",
      " 4   language    5195 non-null   object\n",
      "dtypes: object(5)\n",
      "memory usage: 203.1+ KB\n"
     ]
    }
   ],
   "source": [
    "test.info()"
   ]
  },
  {
   "cell_type": "code",
   "execution_count": 26,
   "id": "1aea0156",
   "metadata": {
    "execution": {
     "iopub.execute_input": "2022-03-14T22:12:16.194883Z",
     "iopub.status.busy": "2022-03-14T22:12:16.194011Z",
     "iopub.status.idle": "2022-03-14T22:12:16.197255Z",
     "shell.execute_reply": "2022-03-14T22:12:16.197759Z",
     "shell.execute_reply.started": "2022-03-14T22:02:47.618384Z"
    },
    "papermill": {
     "duration": 0.166165,
     "end_time": "2022-03-14T22:12:16.197929",
     "exception": false,
     "start_time": "2022-03-14T22:12:16.031764",
     "status": "completed"
    },
    "tags": []
   },
   "outputs": [
    {
     "data": {
      "text/html": [
       "<div>\n",
       "<style scoped>\n",
       "    .dataframe tbody tr th:only-of-type {\n",
       "        vertical-align: middle;\n",
       "    }\n",
       "\n",
       "    .dataframe tbody tr th {\n",
       "        vertical-align: top;\n",
       "    }\n",
       "\n",
       "    .dataframe thead th {\n",
       "        text-align: right;\n",
       "    }\n",
       "</style>\n",
       "<table border=\"1\" class=\"dataframe\">\n",
       "  <thead>\n",
       "    <tr style=\"text-align: right;\">\n",
       "      <th></th>\n",
       "      <th>id</th>\n",
       "      <th>premise</th>\n",
       "      <th>hypothesis</th>\n",
       "      <th>lang_abv</th>\n",
       "      <th>language</th>\n",
       "    </tr>\n",
       "  </thead>\n",
       "  <tbody>\n",
       "    <tr>\n",
       "      <th>0</th>\n",
       "      <td>c6d58c3f69</td>\n",
       "      <td>بکس، کیسی، راہیل، یسعیاہ، کیلی، کیلی، اور کولم...</td>\n",
       "      <td>کیسی کے لئے کوئی یادگار نہیں ہوگا, کولمین ہائی...</td>\n",
       "      <td>ur</td>\n",
       "      <td>Urdu</td>\n",
       "    </tr>\n",
       "    <tr>\n",
       "      <th>1</th>\n",
       "      <td>cefcc82292</td>\n",
       "      <td>هذا هو ما تم نصحنا به.</td>\n",
       "      <td>عندما يتم إخبارهم بما يجب عليهم فعله ، فشلت ال...</td>\n",
       "      <td>ar</td>\n",
       "      <td>Arabic</td>\n",
       "    </tr>\n",
       "    <tr>\n",
       "      <th>2</th>\n",
       "      <td>e98005252c</td>\n",
       "      <td>et cela est en grande partie dû au fait que le...</td>\n",
       "      <td>Les mères se droguent.</td>\n",
       "      <td>fr</td>\n",
       "      <td>French</td>\n",
       "    </tr>\n",
       "    <tr>\n",
       "      <th>3</th>\n",
       "      <td>58518c10ba</td>\n",
       "      <td>与城市及其他公民及社区组织代表就IMA的艺术发展进行对话&amp;amp</td>\n",
       "      <td>IMA与其他组织合作，因为它们都依靠共享资金。</td>\n",
       "      <td>zh</td>\n",
       "      <td>Chinese</td>\n",
       "    </tr>\n",
       "    <tr>\n",
       "      <th>4</th>\n",
       "      <td>c32b0d16df</td>\n",
       "      <td>Она все еще была там.</td>\n",
       "      <td>Мы думали, что она ушла, однако, она осталась.</td>\n",
       "      <td>ru</td>\n",
       "      <td>Russian</td>\n",
       "    </tr>\n",
       "  </tbody>\n",
       "</table>\n",
       "</div>"
      ],
      "text/plain": [
       "           id                                            premise  \\\n",
       "0  c6d58c3f69  بکس، کیسی، راہیل، یسعیاہ، کیلی، کیلی، اور کولم...   \n",
       "1  cefcc82292                             هذا هو ما تم نصحنا به.   \n",
       "2  e98005252c  et cela est en grande partie dû au fait que le...   \n",
       "3  58518c10ba                   与城市及其他公民及社区组织代表就IMA的艺术发展进行对话&amp   \n",
       "4  c32b0d16df                              Она все еще была там.   \n",
       "\n",
       "                                          hypothesis lang_abv language  \n",
       "0  کیسی کے لئے کوئی یادگار نہیں ہوگا, کولمین ہائی...       ur     Urdu  \n",
       "1  عندما يتم إخبارهم بما يجب عليهم فعله ، فشلت ال...       ar   Arabic  \n",
       "2                             Les mères se droguent.       fr   French  \n",
       "3                            IMA与其他组织合作，因为它们都依靠共享资金。       zh  Chinese  \n",
       "4     Мы думали, что она ушла, однако, она осталась.       ru  Russian  "
      ]
     },
     "execution_count": 26,
     "metadata": {},
     "output_type": "execute_result"
    }
   ],
   "source": [
    "test.head()"
   ]
  },
  {
   "cell_type": "code",
   "execution_count": 27,
   "id": "f8fbc368",
   "metadata": {
    "execution": {
     "iopub.execute_input": "2022-03-14T22:12:16.500828Z",
     "iopub.status.busy": "2022-03-14T22:12:16.499685Z",
     "iopub.status.idle": "2022-03-14T22:12:16.535657Z",
     "shell.execute_reply": "2022-03-14T22:12:16.536167Z",
     "shell.execute_reply.started": "2022-03-14T22:02:47.620125Z"
    },
    "papermill": {
     "duration": 0.190564,
     "end_time": "2022-03-14T22:12:16.536331",
     "exception": false,
     "start_time": "2022-03-14T22:12:16.345767",
     "status": "completed"
    },
    "tags": []
   },
   "outputs": [
    {
     "data": {
      "text/plain": [
       "{'input_word_ids': <tf.Tensor: shape=(5195, 234), dtype=int32, numpy=\n",
       " array([[  101,   764, 28744, ...,     0,     0,     0],\n",
       "        [  101, 13498, 11917, ...,     0,     0,     0],\n",
       "        [  101, 10131, 24552, ...,     0,     0,     0],\n",
       "        ...,\n",
       "        [  101,  3239,  5755, ...,     0,     0,     0],\n",
       "        [  101, 98370,   112, ...,     0,     0,     0],\n",
       "        [  101, 10167, 15078, ...,     0,     0,     0]], dtype=int32)>,\n",
       " 'input_mask': <tf.Tensor: shape=(5195, 234), dtype=int32, numpy=\n",
       " array([[1, 1, 1, ..., 0, 0, 0],\n",
       "        [1, 1, 1, ..., 0, 0, 0],\n",
       "        [1, 1, 1, ..., 0, 0, 0],\n",
       "        ...,\n",
       "        [1, 1, 1, ..., 0, 0, 0],\n",
       "        [1, 1, 1, ..., 0, 0, 0],\n",
       "        [1, 1, 1, ..., 0, 0, 0]], dtype=int32)>,\n",
       " 'input_type_ids': <tf.Tensor: shape=(5195, 234), dtype=int32, numpy=\n",
       " array([[0, 0, 0, ..., 0, 0, 0],\n",
       "        [0, 0, 0, ..., 0, 0, 0],\n",
       "        [0, 0, 0, ..., 0, 0, 0],\n",
       "        ...,\n",
       "        [0, 0, 0, ..., 0, 0, 0],\n",
       "        [0, 0, 0, ..., 0, 0, 0],\n",
       "        [0, 0, 0, ..., 0, 0, 0]], dtype=int32)>}"
      ]
     },
     "execution_count": 27,
     "metadata": {},
     "output_type": "execute_result"
    }
   ],
   "source": [
    "test_input"
   ]
  },
  {
   "cell_type": "markdown",
   "id": "e623b17b",
   "metadata": {
    "papermill": {
     "duration": 0.14904,
     "end_time": "2022-03-14T22:12:16.836895",
     "exception": false,
     "start_time": "2022-03-14T22:12:16.687855",
     "status": "completed"
    },
    "tags": []
   },
   "source": [
    "The max_length for the test data is less than that for the training data, so let's add the training data and then remove it before we make our predictions:"
   ]
  },
  {
   "cell_type": "code",
   "execution_count": 28,
   "id": "abd8f5d1",
   "metadata": {
    "execution": {
     "iopub.execute_input": "2022-03-14T22:12:17.142665Z",
     "iopub.status.busy": "2022-03-14T22:12:17.141897Z",
     "iopub.status.idle": "2022-03-14T22:12:17.152633Z",
     "shell.execute_reply": "2022-03-14T22:12:17.152041Z",
     "shell.execute_reply.started": "2022-03-14T22:02:47.621740Z"
    },
    "papermill": {
     "duration": 0.16326,
     "end_time": "2022-03-14T22:12:17.152772",
     "exception": false,
     "start_time": "2022-03-14T22:12:16.989512",
     "status": "completed"
    },
    "tags": []
   },
   "outputs": [],
   "source": [
    "train2 = train.copy()\n",
    "train2.pop(\"label\")\n",
    "\n",
    "df = pd.concat([train2, test])"
   ]
  },
  {
   "cell_type": "code",
   "execution_count": 29,
   "id": "a378e104",
   "metadata": {
    "execution": {
     "iopub.execute_input": "2022-03-14T22:12:17.535054Z",
     "iopub.status.busy": "2022-03-14T22:12:17.534331Z",
     "iopub.status.idle": "2022-03-14T22:12:17.544495Z",
     "shell.execute_reply": "2022-03-14T22:12:17.545104Z",
     "shell.execute_reply.started": "2022-03-14T22:02:47.623971Z"
    },
    "papermill": {
     "duration": 0.164005,
     "end_time": "2022-03-14T22:12:17.545272",
     "exception": false,
     "start_time": "2022-03-14T22:12:17.381267",
     "status": "completed"
    },
    "tags": []
   },
   "outputs": [
    {
     "data": {
      "text/html": [
       "<div>\n",
       "<style scoped>\n",
       "    .dataframe tbody tr th:only-of-type {\n",
       "        vertical-align: middle;\n",
       "    }\n",
       "\n",
       "    .dataframe tbody tr th {\n",
       "        vertical-align: top;\n",
       "    }\n",
       "\n",
       "    .dataframe thead th {\n",
       "        text-align: right;\n",
       "    }\n",
       "</style>\n",
       "<table border=\"1\" class=\"dataframe\">\n",
       "  <thead>\n",
       "    <tr style=\"text-align: right;\">\n",
       "      <th></th>\n",
       "      <th>id</th>\n",
       "      <th>premise</th>\n",
       "      <th>hypothesis</th>\n",
       "      <th>lang_abv</th>\n",
       "      <th>language</th>\n",
       "    </tr>\n",
       "  </thead>\n",
       "  <tbody>\n",
       "    <tr>\n",
       "      <th>0</th>\n",
       "      <td>5130fd2cb5</td>\n",
       "      <td>and these comments were considered in formulat...</td>\n",
       "      <td>The rules developed in the interim were put to...</td>\n",
       "      <td>en</td>\n",
       "      <td>English</td>\n",
       "    </tr>\n",
       "    <tr>\n",
       "      <th>1</th>\n",
       "      <td>5b72532a0b</td>\n",
       "      <td>These are issues that we wrestle with in pract...</td>\n",
       "      <td>Practice groups are not permitted to work on t...</td>\n",
       "      <td>en</td>\n",
       "      <td>English</td>\n",
       "    </tr>\n",
       "    <tr>\n",
       "      <th>2</th>\n",
       "      <td>3931fbe82a</td>\n",
       "      <td>Des petites choses comme celles-là font une di...</td>\n",
       "      <td>J'essayais d'accomplir quelque chose.</td>\n",
       "      <td>fr</td>\n",
       "      <td>French</td>\n",
       "    </tr>\n",
       "    <tr>\n",
       "      <th>3</th>\n",
       "      <td>5622f0c60b</td>\n",
       "      <td>you know they can't really defend themselves l...</td>\n",
       "      <td>They can't defend themselves because of their ...</td>\n",
       "      <td>en</td>\n",
       "      <td>English</td>\n",
       "    </tr>\n",
       "    <tr>\n",
       "      <th>4</th>\n",
       "      <td>86aaa48b45</td>\n",
       "      <td>ในการเล่นบทบาทสมมุติก็เช่นกัน โอกาสที่จะได้แสด...</td>\n",
       "      <td>เด็กสามารถเห็นได้ว่าชาติพันธุ์แตกต่างกันอย่างไร</td>\n",
       "      <td>th</td>\n",
       "      <td>Thai</td>\n",
       "    </tr>\n",
       "  </tbody>\n",
       "</table>\n",
       "</div>"
      ],
      "text/plain": [
       "           id                                            premise  \\\n",
       "0  5130fd2cb5  and these comments were considered in formulat...   \n",
       "1  5b72532a0b  These are issues that we wrestle with in pract...   \n",
       "2  3931fbe82a  Des petites choses comme celles-là font une di...   \n",
       "3  5622f0c60b  you know they can't really defend themselves l...   \n",
       "4  86aaa48b45  ในการเล่นบทบาทสมมุติก็เช่นกัน โอกาสที่จะได้แสด...   \n",
       "\n",
       "                                          hypothesis lang_abv language  \n",
       "0  The rules developed in the interim were put to...       en  English  \n",
       "1  Practice groups are not permitted to work on t...       en  English  \n",
       "2              J'essayais d'accomplir quelque chose.       fr   French  \n",
       "3  They can't defend themselves because of their ...       en  English  \n",
       "4    เด็กสามารถเห็นได้ว่าชาติพันธุ์แตกต่างกันอย่างไร       th     Thai  "
      ]
     },
     "execution_count": 29,
     "metadata": {},
     "output_type": "execute_result"
    }
   ],
   "source": [
    "df.head()"
   ]
  },
  {
   "cell_type": "code",
   "execution_count": 30,
   "id": "9589a49d",
   "metadata": {
    "execution": {
     "iopub.execute_input": "2022-03-14T22:12:17.850832Z",
     "iopub.status.busy": "2022-03-14T22:12:17.850129Z",
     "iopub.status.idle": "2022-03-14T22:12:38.841067Z",
     "shell.execute_reply": "2022-03-14T22:12:38.840422Z",
     "shell.execute_reply.started": "2022-03-14T22:02:47.625653Z"
    },
    "papermill": {
     "duration": 21.14574,
     "end_time": "2022-03-14T22:12:38.841238",
     "exception": false,
     "start_time": "2022-03-14T22:12:17.695498",
     "status": "completed"
    },
    "tags": []
   },
   "outputs": [
    {
     "data": {
      "text/plain": [
       "{'input_word_ids': <tf.Tensor: shape=(17315, 259), dtype=int32, numpy=\n",
       " array([[  101, 10111, 11762, ...,     0,     0,     0],\n",
       "        [  101, 13252, 10301, ...,     0,     0,     0],\n",
       "        [  101, 13810, 32181, ...,     0,     0,     0],\n",
       "        ...,\n",
       "        [  101,  3239,  5755, ...,     0,     0,     0],\n",
       "        [  101, 98370,   112, ...,     0,     0,     0],\n",
       "        [  101, 10167, 15078, ...,     0,     0,     0]], dtype=int32)>,\n",
       " 'input_mask': <tf.Tensor: shape=(17315, 259), dtype=int32, numpy=\n",
       " array([[1, 1, 1, ..., 0, 0, 0],\n",
       "        [1, 1, 1, ..., 0, 0, 0],\n",
       "        [1, 1, 1, ..., 0, 0, 0],\n",
       "        ...,\n",
       "        [1, 1, 1, ..., 0, 0, 0],\n",
       "        [1, 1, 1, ..., 0, 0, 0],\n",
       "        [1, 1, 1, ..., 0, 0, 0]], dtype=int32)>,\n",
       " 'input_type_ids': <tf.Tensor: shape=(17315, 259), dtype=int32, numpy=\n",
       " array([[0, 0, 0, ..., 0, 0, 0],\n",
       "        [0, 0, 0, ..., 0, 0, 0],\n",
       "        [0, 0, 0, ..., 0, 0, 0],\n",
       "        ...,\n",
       "        [0, 0, 0, ..., 0, 0, 0],\n",
       "        [0, 0, 0, ..., 0, 0, 0],\n",
       "        [0, 0, 0, ..., 0, 0, 0]], dtype=int32)>}"
      ]
     },
     "execution_count": 30,
     "metadata": {},
     "output_type": "execute_result"
    }
   ],
   "source": [
    "df_input = bert_encode(df.premise.values, df.hypothesis.values, tokenizer)\n",
    "df_input"
   ]
  },
  {
   "cell_type": "markdown",
   "id": "1b355455",
   "metadata": {
    "papermill": {
     "duration": 0.149776,
     "end_time": "2022-03-14T22:12:39.144761",
     "exception": false,
     "start_time": "2022-03-14T22:12:38.994985",
     "status": "completed"
    },
    "tags": []
   },
   "source": [
    "Now let's define our test input:"
   ]
  },
  {
   "cell_type": "code",
   "execution_count": 31,
   "id": "85c7a879",
   "metadata": {
    "execution": {
     "iopub.execute_input": "2022-03-14T22:12:39.452418Z",
     "iopub.status.busy": "2022-03-14T22:12:39.451228Z",
     "iopub.status.idle": "2022-03-14T22:12:39.456137Z",
     "shell.execute_reply": "2022-03-14T22:12:39.455411Z",
     "shell.execute_reply.started": "2022-03-14T22:02:47.627024Z"
    },
    "papermill": {
     "duration": 0.161056,
     "end_time": "2022-03-14T22:12:39.456319",
     "exception": false,
     "start_time": "2022-03-14T22:12:39.295263",
     "status": "completed"
    },
    "tags": []
   },
   "outputs": [],
   "source": [
    "test_input[\"input_word_ids\"] = df_input[\"input_word_ids\"][12120:]\n",
    "test_input[\"input_mask\"] = df_input[\"input_mask\"][12120:]\n",
    "test_input[\"input_type_ids\"] = df_input[\"input_type_ids\"][12120:]"
   ]
  },
  {
   "cell_type": "code",
   "execution_count": 32,
   "id": "1f23cc1a",
   "metadata": {
    "execution": {
     "iopub.execute_input": "2022-03-14T22:12:39.765662Z",
     "iopub.status.busy": "2022-03-14T22:12:39.763029Z",
     "iopub.status.idle": "2022-03-14T22:12:39.787026Z",
     "shell.execute_reply": "2022-03-14T22:12:39.786422Z",
     "shell.execute_reply.started": "2022-03-14T22:02:47.628474Z"
    },
    "papermill": {
     "duration": 0.178787,
     "end_time": "2022-03-14T22:12:39.787180",
     "exception": false,
     "start_time": "2022-03-14T22:12:39.608393",
     "status": "completed"
    },
    "tags": []
   },
   "outputs": [
    {
     "data": {
      "text/plain": [
       "{'input_word_ids': <tf.Tensor: shape=(5195, 259), dtype=int32, numpy=\n",
       " array([[  101,   764, 28744, ...,     0,     0,     0],\n",
       "        [  101, 13498, 11917, ...,     0,     0,     0],\n",
       "        [  101, 10131, 24552, ...,     0,     0,     0],\n",
       "        ...,\n",
       "        [  101,  3239,  5755, ...,     0,     0,     0],\n",
       "        [  101, 98370,   112, ...,     0,     0,     0],\n",
       "        [  101, 10167, 15078, ...,     0,     0,     0]], dtype=int32)>,\n",
       " 'input_mask': <tf.Tensor: shape=(5195, 259), dtype=int32, numpy=\n",
       " array([[1, 1, 1, ..., 0, 0, 0],\n",
       "        [1, 1, 1, ..., 0, 0, 0],\n",
       "        [1, 1, 1, ..., 0, 0, 0],\n",
       "        ...,\n",
       "        [1, 1, 1, ..., 0, 0, 0],\n",
       "        [1, 1, 1, ..., 0, 0, 0],\n",
       "        [1, 1, 1, ..., 0, 0, 0]], dtype=int32)>,\n",
       " 'input_type_ids': <tf.Tensor: shape=(5195, 259), dtype=int32, numpy=\n",
       " array([[0, 0, 0, ..., 0, 0, 0],\n",
       "        [0, 0, 0, ..., 0, 0, 0],\n",
       "        [0, 0, 0, ..., 0, 0, 0],\n",
       "        ...,\n",
       "        [0, 0, 0, ..., 0, 0, 0],\n",
       "        [0, 0, 0, ..., 0, 0, 0],\n",
       "        [0, 0, 0, ..., 0, 0, 0]], dtype=int32)>}"
      ]
     },
     "execution_count": 32,
     "metadata": {},
     "output_type": "execute_result"
    }
   ],
   "source": [
    "test_input"
   ]
  },
  {
   "cell_type": "markdown",
   "id": "32c76c16",
   "metadata": {
    "_cell_guid": "87b18b05-30f3-45f9-9c3e-6f8184934bd0",
    "_uuid": "fb1ff888-7684-4888-b861-3c31a3f360b7",
    "papermill": {
     "duration": 0.150509,
     "end_time": "2022-03-14T22:12:40.090046",
     "exception": false,
     "start_time": "2022-03-14T22:12:39.939537",
     "status": "completed"
    },
    "tags": []
   },
   "source": [
    "## Generating & Submitting Predictions"
   ]
  },
  {
   "cell_type": "code",
   "execution_count": 33,
   "id": "13296f6c",
   "metadata": {
    "_cell_guid": "a7ab0c33-0377-4cb2-b4f9-fc489383fdb7",
    "_uuid": "f9db46a1-1f83-4ddb-85bf-da8f40afe623",
    "execution": {
     "iopub.execute_input": "2022-03-14T22:12:40.396819Z",
     "iopub.status.busy": "2022-03-14T22:12:40.395696Z",
     "iopub.status.idle": "2022-03-14T22:12:57.174468Z",
     "shell.execute_reply": "2022-03-14T22:12:57.173806Z",
     "shell.execute_reply.started": "2022-03-14T22:02:47.629882Z"
    },
    "papermill": {
     "duration": 16.935323,
     "end_time": "2022-03-14T22:12:57.174655",
     "exception": false,
     "start_time": "2022-03-14T22:12:40.239332",
     "status": "completed"
    },
    "tags": []
   },
   "outputs": [],
   "source": [
    "predictions = [np.argmax(i) for i in model.predict(test_input)]"
   ]
  },
  {
   "cell_type": "markdown",
   "id": "8f8b5e8c",
   "metadata": {
    "_cell_guid": "1d0e8e42-2746-4331-95a5-3eb78ca6861c",
    "_uuid": "7b489c00-896d-44af-9371-16c2cf222365",
    "papermill": {
     "duration": 0.152845,
     "end_time": "2022-03-14T22:12:57.481721",
     "exception": false,
     "start_time": "2022-03-14T22:12:57.328876",
     "status": "completed"
    },
    "tags": []
   },
   "source": [
    "The submission file will consist of the ID column and a prediction column. We can just copy the ID column from the test file, make it a dataframe, and then add our prediction column."
   ]
  },
  {
   "cell_type": "code",
   "execution_count": 34,
   "id": "e4b4ab62",
   "metadata": {
    "_cell_guid": "add7302f-ae26-4e78-b69d-858cacb35991",
    "_uuid": "9e0e34fa-1ef7-4207-a5c3-c21863c7be27",
    "execution": {
     "iopub.execute_input": "2022-03-14T22:12:57.796644Z",
     "iopub.status.busy": "2022-03-14T22:12:57.795964Z",
     "iopub.status.idle": "2022-03-14T22:12:57.798947Z",
     "shell.execute_reply": "2022-03-14T22:12:57.798401Z",
     "shell.execute_reply.started": "2022-03-14T22:02:47.631517Z"
    },
    "papermill": {
     "duration": 0.165763,
     "end_time": "2022-03-14T22:12:57.799082",
     "exception": false,
     "start_time": "2022-03-14T22:12:57.633319",
     "status": "completed"
    },
    "tags": []
   },
   "outputs": [],
   "source": [
    "submission = test.id.copy().to_frame()\n",
    "submission['prediction'] = predictions"
   ]
  },
  {
   "cell_type": "code",
   "execution_count": 35,
   "id": "a34e98aa",
   "metadata": {
    "_cell_guid": "d4fdefdc-4839-4962-ae75-6807390a6de7",
    "_uuid": "1d4999aa-10d2-4a88-962a-8f10bded837b",
    "execution": {
     "iopub.execute_input": "2022-03-14T22:12:58.124489Z",
     "iopub.status.busy": "2022-03-14T22:12:58.123459Z",
     "iopub.status.idle": "2022-03-14T22:12:58.129105Z",
     "shell.execute_reply": "2022-03-14T22:12:58.129938Z",
     "shell.execute_reply.started": "2022-03-14T22:02:47.635221Z"
    },
    "papermill": {
     "duration": 0.179123,
     "end_time": "2022-03-14T22:12:58.130176",
     "exception": false,
     "start_time": "2022-03-14T22:12:57.951053",
     "status": "completed"
    },
    "tags": []
   },
   "outputs": [
    {
     "data": {
      "text/html": [
       "<div>\n",
       "<style scoped>\n",
       "    .dataframe tbody tr th:only-of-type {\n",
       "        vertical-align: middle;\n",
       "    }\n",
       "\n",
       "    .dataframe tbody tr th {\n",
       "        vertical-align: top;\n",
       "    }\n",
       "\n",
       "    .dataframe thead th {\n",
       "        text-align: right;\n",
       "    }\n",
       "</style>\n",
       "<table border=\"1\" class=\"dataframe\">\n",
       "  <thead>\n",
       "    <tr style=\"text-align: right;\">\n",
       "      <th></th>\n",
       "      <th>id</th>\n",
       "      <th>prediction</th>\n",
       "    </tr>\n",
       "  </thead>\n",
       "  <tbody>\n",
       "    <tr>\n",
       "      <th>0</th>\n",
       "      <td>c6d58c3f69</td>\n",
       "      <td>2</td>\n",
       "    </tr>\n",
       "    <tr>\n",
       "      <th>1</th>\n",
       "      <td>cefcc82292</td>\n",
       "      <td>1</td>\n",
       "    </tr>\n",
       "    <tr>\n",
       "      <th>2</th>\n",
       "      <td>e98005252c</td>\n",
       "      <td>0</td>\n",
       "    </tr>\n",
       "    <tr>\n",
       "      <th>3</th>\n",
       "      <td>58518c10ba</td>\n",
       "      <td>1</td>\n",
       "    </tr>\n",
       "    <tr>\n",
       "      <th>4</th>\n",
       "      <td>c32b0d16df</td>\n",
       "      <td>2</td>\n",
       "    </tr>\n",
       "  </tbody>\n",
       "</table>\n",
       "</div>"
      ],
      "text/plain": [
       "           id  prediction\n",
       "0  c6d58c3f69           2\n",
       "1  cefcc82292           1\n",
       "2  e98005252c           0\n",
       "3  58518c10ba           1\n",
       "4  c32b0d16df           2"
      ]
     },
     "execution_count": 35,
     "metadata": {},
     "output_type": "execute_result"
    }
   ],
   "source": [
    "submission.head()"
   ]
  },
  {
   "cell_type": "code",
   "execution_count": 36,
   "id": "bcb13a81",
   "metadata": {
    "_cell_guid": "84abe9e3-ef04-4dac-97d2-2308a0f11313",
    "_uuid": "b8463f7e-8b2f-4c24-8eb3-a35ec02a2d6e",
    "execution": {
     "iopub.execute_input": "2022-03-14T22:12:58.506070Z",
     "iopub.status.busy": "2022-03-14T22:12:58.505044Z",
     "iopub.status.idle": "2022-03-14T22:12:58.523738Z",
     "shell.execute_reply": "2022-03-14T22:12:58.524396Z",
     "shell.execute_reply.started": "2022-03-14T22:02:47.636303Z"
    },
    "papermill": {
     "duration": 0.209377,
     "end_time": "2022-03-14T22:12:58.524578",
     "exception": false,
     "start_time": "2022-03-14T22:12:58.315201",
     "status": "completed"
    },
    "tags": []
   },
   "outputs": [],
   "source": [
    "submission.to_csv(\"submission.csv\", index = False)"
   ]
  },
  {
   "cell_type": "code",
   "execution_count": null,
   "id": "f4e85c55",
   "metadata": {
    "papermill": {
     "duration": 0.162784,
     "end_time": "2022-03-14T22:12:58.853046",
     "exception": false,
     "start_time": "2022-03-14T22:12:58.690262",
     "status": "completed"
    },
    "tags": []
   },
   "outputs": [],
   "source": []
  }
 ],
 "metadata": {
  "kernelspec": {
   "display_name": "Python 3",
   "language": "python",
   "name": "python3"
  },
  "language_info": {
   "codemirror_mode": {
    "name": "ipython",
    "version": 3
   },
   "file_extension": ".py",
   "mimetype": "text/x-python",
   "name": "python",
   "nbconvert_exporter": "python",
   "pygments_lexer": "ipython3",
   "version": "3.7.10"
  },
  "papermill": {
   "default_parameters": {},
   "duration": 325.983086,
   "end_time": "2022-03-14T22:13:01.915301",
   "environment_variables": {},
   "exception": null,
   "input_path": "__notebook__.ipynb",
   "output_path": "__notebook__.ipynb",
   "parameters": {},
   "start_time": "2022-03-14T22:07:35.932215",
   "version": "2.3.3"
  },
  "widgets": {
   "application/vnd.jupyter.widget-state+json": {
    "state": {
     "023d86de00a04d499be64cfc641d4022": {
      "model_module": "@jupyter-widgets/controls",
      "model_module_version": "1.5.0",
      "model_name": "DescriptionStyleModel",
      "state": {
       "_model_module": "@jupyter-widgets/controls",
       "_model_module_version": "1.5.0",
       "_model_name": "DescriptionStyleModel",
       "_view_count": null,
       "_view_module": "@jupyter-widgets/base",
       "_view_module_version": "1.2.0",
       "_view_name": "StyleView",
       "description_width": ""
      }
     },
     "0514df6cfa054d0ebf66a2ab21b2deb0": {
      "model_module": "@jupyter-widgets/controls",
      "model_module_version": "1.5.0",
      "model_name": "HBoxModel",
      "state": {
       "_dom_classes": [],
       "_model_module": "@jupyter-widgets/controls",
       "_model_module_version": "1.5.0",
       "_model_name": "HBoxModel",
       "_view_count": null,
       "_view_module": "@jupyter-widgets/controls",
       "_view_module_version": "1.5.0",
       "_view_name": "HBoxView",
       "box_style": "",
       "children": [
        "IPY_MODEL_e78a2ae83a854bb1a03e60ee03c10c3b",
        "IPY_MODEL_f6864e9f54504ef28e999c7da2123b7e",
        "IPY_MODEL_93d8b8a7e25d4b6da337a6486f8be890"
       ],
       "layout": "IPY_MODEL_52c55b06c05f4cb68ddf4611cdd53b91"
      }
     },
     "13d8e77caa474531a9d241bf4a783b5a": {
      "model_module": "@jupyter-widgets/controls",
      "model_module_version": "1.5.0",
      "model_name": "DescriptionStyleModel",
      "state": {
       "_model_module": "@jupyter-widgets/controls",
       "_model_module_version": "1.5.0",
       "_model_name": "DescriptionStyleModel",
       "_view_count": null,
       "_view_module": "@jupyter-widgets/base",
       "_view_module_version": "1.2.0",
       "_view_name": "StyleView",
       "description_width": ""
      }
     },
     "196b584f03804e7bbdfbda3154ecbdad": {
      "model_module": "@jupyter-widgets/controls",
      "model_module_version": "1.5.0",
      "model_name": "FloatProgressModel",
      "state": {
       "_dom_classes": [],
       "_model_module": "@jupyter-widgets/controls",
       "_model_module_version": "1.5.0",
       "_model_name": "FloatProgressModel",
       "_view_count": null,
       "_view_module": "@jupyter-widgets/controls",
       "_view_module_version": "1.5.0",
       "_view_name": "ProgressView",
       "bar_style": "success",
       "description": "",
       "description_tooltip": null,
       "layout": "IPY_MODEL_a2d5af63474b4b73b0fc04d4ec62c2d8",
       "max": 29.0,
       "min": 0.0,
       "orientation": "horizontal",
       "style": "IPY_MODEL_5aa10c6be6b746b5afe3fe123d4f3ea2",
       "value": 29.0
      }
     },
     "1f019576148b4edda297a318c741578c": {
      "model_module": "@jupyter-widgets/controls",
      "model_module_version": "1.5.0",
      "model_name": "DescriptionStyleModel",
      "state": {
       "_model_module": "@jupyter-widgets/controls",
       "_model_module_version": "1.5.0",
       "_model_name": "DescriptionStyleModel",
       "_view_count": null,
       "_view_module": "@jupyter-widgets/base",
       "_view_module_version": "1.2.0",
       "_view_name": "StyleView",
       "description_width": ""
      }
     },
     "20af143cc5e54c15828349449167275e": {
      "model_module": "@jupyter-widgets/controls",
      "model_module_version": "1.5.0",
      "model_name": "DescriptionStyleModel",
      "state": {
       "_model_module": "@jupyter-widgets/controls",
       "_model_module_version": "1.5.0",
       "_model_name": "DescriptionStyleModel",
       "_view_count": null,
       "_view_module": "@jupyter-widgets/base",
       "_view_module_version": "1.2.0",
       "_view_name": "StyleView",
       "description_width": ""
      }
     },
     "28a2d8c725574bf5bc4b981804b71532": {
      "model_module": "@jupyter-widgets/controls",
      "model_module_version": "1.5.0",
      "model_name": "FloatProgressModel",
      "state": {
       "_dom_classes": [],
       "_model_module": "@jupyter-widgets/controls",
       "_model_module_version": "1.5.0",
       "_model_name": "FloatProgressModel",
       "_view_count": null,
       "_view_module": "@jupyter-widgets/controls",
       "_view_module_version": "1.5.0",
       "_view_name": "ProgressView",
       "bar_style": "success",
       "description": "",
       "description_tooltip": null,
       "layout": "IPY_MODEL_95cb8577dddf41e3abe93f305fe5d165",
       "max": 995526.0,
       "min": 0.0,
       "orientation": "horizontal",
       "style": "IPY_MODEL_f33a6c9b881348a785efddcfd237f937",
       "value": 995526.0
      }
     },
     "2a8f7f2bdaff4ef1a6fbbdb3434d3bf7": {
      "model_module": "@jupyter-widgets/controls",
      "model_module_version": "1.5.0",
      "model_name": "DescriptionStyleModel",
      "state": {
       "_model_module": "@jupyter-widgets/controls",
       "_model_module_version": "1.5.0",
       "_model_name": "DescriptionStyleModel",
       "_view_count": null,
       "_view_module": "@jupyter-widgets/base",
       "_view_module_version": "1.2.0",
       "_view_name": "StyleView",
       "description_width": ""
      }
     },
     "37b6ec41ab514780906c97ecec075bc6": {
      "model_module": "@jupyter-widgets/controls",
      "model_module_version": "1.5.0",
      "model_name": "HTMLModel",
      "state": {
       "_dom_classes": [],
       "_model_module": "@jupyter-widgets/controls",
       "_model_module_version": "1.5.0",
       "_model_name": "HTMLModel",
       "_view_count": null,
       "_view_module": "@jupyter-widgets/controls",
       "_view_module_version": "1.5.0",
       "_view_name": "HTMLView",
       "description": "",
       "description_tooltip": null,
       "layout": "IPY_MODEL_c623b97371884fff986cee5cee660953",
       "placeholder": "​",
       "style": "IPY_MODEL_5a177c519b8743a8adc2aab3ad7bbec3",
       "value": " 996k/996k [00:00&lt;00:00, 1.74MB/s]"
      }
     },
     "3874117d1f1340fa81674c25cba9108e": {
      "model_module": "@jupyter-widgets/base",
      "model_module_version": "1.2.0",
      "model_name": "LayoutModel",
      "state": {
       "_model_module": "@jupyter-widgets/base",
       "_model_module_version": "1.2.0",
       "_model_name": "LayoutModel",
       "_view_count": null,
       "_view_module": "@jupyter-widgets/base",
       "_view_module_version": "1.2.0",
       "_view_name": "LayoutView",
       "align_content": null,
       "align_items": null,
       "align_self": null,
       "border": null,
       "bottom": null,
       "display": null,
       "flex": null,
       "flex_flow": null,
       "grid_area": null,
       "grid_auto_columns": null,
       "grid_auto_flow": null,
       "grid_auto_rows": null,
       "grid_column": null,
       "grid_gap": null,
       "grid_row": null,
       "grid_template_areas": null,
       "grid_template_columns": null,
       "grid_template_rows": null,
       "height": null,
       "justify_content": null,
       "justify_items": null,
       "left": null,
       "margin": null,
       "max_height": null,
       "max_width": null,
       "min_height": null,
       "min_width": null,
       "object_fit": null,
       "object_position": null,
       "order": null,
       "overflow": null,
       "overflow_x": null,
       "overflow_y": null,
       "padding": null,
       "right": null,
       "top": null,
       "visibility": null,
       "width": null
      }
     },
     "38b1ab44c03e43c9bd839f5d1f3ccebf": {
      "model_module": "@jupyter-widgets/base",
      "model_module_version": "1.2.0",
      "model_name": "LayoutModel",
      "state": {
       "_model_module": "@jupyter-widgets/base",
       "_model_module_version": "1.2.0",
       "_model_name": "LayoutModel",
       "_view_count": null,
       "_view_module": "@jupyter-widgets/base",
       "_view_module_version": "1.2.0",
       "_view_name": "LayoutView",
       "align_content": null,
       "align_items": null,
       "align_self": null,
       "border": null,
       "bottom": null,
       "display": null,
       "flex": null,
       "flex_flow": null,
       "grid_area": null,
       "grid_auto_columns": null,
       "grid_auto_flow": null,
       "grid_auto_rows": null,
       "grid_column": null,
       "grid_gap": null,
       "grid_row": null,
       "grid_template_areas": null,
       "grid_template_columns": null,
       "grid_template_rows": null,
       "height": null,
       "justify_content": null,
       "justify_items": null,
       "left": null,
       "margin": null,
       "max_height": null,
       "max_width": null,
       "min_height": null,
       "min_width": null,
       "object_fit": null,
       "object_position": null,
       "order": null,
       "overflow": null,
       "overflow_x": null,
       "overflow_y": null,
       "padding": null,
       "right": null,
       "top": null,
       "visibility": null,
       "width": null
      }
     },
     "3b30450943ca47e08ded242696d80356": {
      "model_module": "@jupyter-widgets/base",
      "model_module_version": "1.2.0",
      "model_name": "LayoutModel",
      "state": {
       "_model_module": "@jupyter-widgets/base",
       "_model_module_version": "1.2.0",
       "_model_name": "LayoutModel",
       "_view_count": null,
       "_view_module": "@jupyter-widgets/base",
       "_view_module_version": "1.2.0",
       "_view_name": "LayoutView",
       "align_content": null,
       "align_items": null,
       "align_self": null,
       "border": null,
       "bottom": null,
       "display": null,
       "flex": null,
       "flex_flow": null,
       "grid_area": null,
       "grid_auto_columns": null,
       "grid_auto_flow": null,
       "grid_auto_rows": null,
       "grid_column": null,
       "grid_gap": null,
       "grid_row": null,
       "grid_template_areas": null,
       "grid_template_columns": null,
       "grid_template_rows": null,
       "height": null,
       "justify_content": null,
       "justify_items": null,
       "left": null,
       "margin": null,
       "max_height": null,
       "max_width": null,
       "min_height": null,
       "min_width": null,
       "object_fit": null,
       "object_position": null,
       "order": null,
       "overflow": null,
       "overflow_x": null,
       "overflow_y": null,
       "padding": null,
       "right": null,
       "top": null,
       "visibility": null,
       "width": null
      }
     },
     "400e2b4a092a43b09fbf075f69e68335": {
      "model_module": "@jupyter-widgets/controls",
      "model_module_version": "1.5.0",
      "model_name": "HTMLModel",
      "state": {
       "_dom_classes": [],
       "_model_module": "@jupyter-widgets/controls",
       "_model_module_version": "1.5.0",
       "_model_name": "HTMLModel",
       "_view_count": null,
       "_view_module": "@jupyter-widgets/controls",
       "_view_module_version": "1.5.0",
       "_view_name": "HTMLView",
       "description": "",
       "description_tooltip": null,
       "layout": "IPY_MODEL_bfaaa350f2d94d5995dc61875ca4b9e3",
       "placeholder": "​",
       "style": "IPY_MODEL_2a8f7f2bdaff4ef1a6fbbdb3434d3bf7",
       "value": " 29.0/29.0 [00:00&lt;00:00, 986B/s]"
      }
     },
     "44a410fdb10f4c43903c94896576b668": {
      "model_module": "@jupyter-widgets/base",
      "model_module_version": "1.2.0",
      "model_name": "LayoutModel",
      "state": {
       "_model_module": "@jupyter-widgets/base",
       "_model_module_version": "1.2.0",
       "_model_name": "LayoutModel",
       "_view_count": null,
       "_view_module": "@jupyter-widgets/base",
       "_view_module_version": "1.2.0",
       "_view_name": "LayoutView",
       "align_content": null,
       "align_items": null,
       "align_self": null,
       "border": null,
       "bottom": null,
       "display": null,
       "flex": null,
       "flex_flow": null,
       "grid_area": null,
       "grid_auto_columns": null,
       "grid_auto_flow": null,
       "grid_auto_rows": null,
       "grid_column": null,
       "grid_gap": null,
       "grid_row": null,
       "grid_template_areas": null,
       "grid_template_columns": null,
       "grid_template_rows": null,
       "height": null,
       "justify_content": null,
       "justify_items": null,
       "left": null,
       "margin": null,
       "max_height": null,
       "max_width": null,
       "min_height": null,
       "min_width": null,
       "object_fit": null,
       "object_position": null,
       "order": null,
       "overflow": null,
       "overflow_x": null,
       "overflow_y": null,
       "padding": null,
       "right": null,
       "top": null,
       "visibility": null,
       "width": null
      }
     },
     "481d163908ce4a64b237ce061cc5ecf4": {
      "model_module": "@jupyter-widgets/base",
      "model_module_version": "1.2.0",
      "model_name": "LayoutModel",
      "state": {
       "_model_module": "@jupyter-widgets/base",
       "_model_module_version": "1.2.0",
       "_model_name": "LayoutModel",
       "_view_count": null,
       "_view_module": "@jupyter-widgets/base",
       "_view_module_version": "1.2.0",
       "_view_name": "LayoutView",
       "align_content": null,
       "align_items": null,
       "align_self": null,
       "border": null,
       "bottom": null,
       "display": null,
       "flex": null,
       "flex_flow": null,
       "grid_area": null,
       "grid_auto_columns": null,
       "grid_auto_flow": null,
       "grid_auto_rows": null,
       "grid_column": null,
       "grid_gap": null,
       "grid_row": null,
       "grid_template_areas": null,
       "grid_template_columns": null,
       "grid_template_rows": null,
       "height": null,
       "justify_content": null,
       "justify_items": null,
       "left": null,
       "margin": null,
       "max_height": null,
       "max_width": null,
       "min_height": null,
       "min_width": null,
       "object_fit": null,
       "object_position": null,
       "order": null,
       "overflow": null,
       "overflow_x": null,
       "overflow_y": null,
       "padding": null,
       "right": null,
       "top": null,
       "visibility": null,
       "width": null
      }
     },
     "4c1939b3b2ce4b47a7dba433ba949b71": {
      "model_module": "@jupyter-widgets/controls",
      "model_module_version": "1.5.0",
      "model_name": "HBoxModel",
      "state": {
       "_dom_classes": [],
       "_model_module": "@jupyter-widgets/controls",
       "_model_module_version": "1.5.0",
       "_model_name": "HBoxModel",
       "_view_count": null,
       "_view_module": "@jupyter-widgets/controls",
       "_view_module_version": "1.5.0",
       "_view_name": "HBoxView",
       "box_style": "",
       "children": [
        "IPY_MODEL_c7a4b97181774bad949f1a62096518d6",
        "IPY_MODEL_28a2d8c725574bf5bc4b981804b71532",
        "IPY_MODEL_37b6ec41ab514780906c97ecec075bc6"
       ],
       "layout": "IPY_MODEL_76d76ddaac724eb68d7f7adb20bab06d"
      }
     },
     "52c55b06c05f4cb68ddf4611cdd53b91": {
      "model_module": "@jupyter-widgets/base",
      "model_module_version": "1.2.0",
      "model_name": "LayoutModel",
      "state": {
       "_model_module": "@jupyter-widgets/base",
       "_model_module_version": "1.2.0",
       "_model_name": "LayoutModel",
       "_view_count": null,
       "_view_module": "@jupyter-widgets/base",
       "_view_module_version": "1.2.0",
       "_view_name": "LayoutView",
       "align_content": null,
       "align_items": null,
       "align_self": null,
       "border": null,
       "bottom": null,
       "display": null,
       "flex": null,
       "flex_flow": null,
       "grid_area": null,
       "grid_auto_columns": null,
       "grid_auto_flow": null,
       "grid_auto_rows": null,
       "grid_column": null,
       "grid_gap": null,
       "grid_row": null,
       "grid_template_areas": null,
       "grid_template_columns": null,
       "grid_template_rows": null,
       "height": null,
       "justify_content": null,
       "justify_items": null,
       "left": null,
       "margin": null,
       "max_height": null,
       "max_width": null,
       "min_height": null,
       "min_width": null,
       "object_fit": null,
       "object_position": null,
       "order": null,
       "overflow": null,
       "overflow_x": null,
       "overflow_y": null,
       "padding": null,
       "right": null,
       "top": null,
       "visibility": null,
       "width": null
      }
     },
     "52dab79b838844bfa3c2cfb5b19e6f4d": {
      "model_module": "@jupyter-widgets/controls",
      "model_module_version": "1.5.0",
      "model_name": "DescriptionStyleModel",
      "state": {
       "_model_module": "@jupyter-widgets/controls",
       "_model_module_version": "1.5.0",
       "_model_name": "DescriptionStyleModel",
       "_view_count": null,
       "_view_module": "@jupyter-widgets/base",
       "_view_module_version": "1.2.0",
       "_view_name": "StyleView",
       "description_width": ""
      }
     },
     "556bc96072da4503915e2207cb239bc9": {
      "model_module": "@jupyter-widgets/base",
      "model_module_version": "1.2.0",
      "model_name": "LayoutModel",
      "state": {
       "_model_module": "@jupyter-widgets/base",
       "_model_module_version": "1.2.0",
       "_model_name": "LayoutModel",
       "_view_count": null,
       "_view_module": "@jupyter-widgets/base",
       "_view_module_version": "1.2.0",
       "_view_name": "LayoutView",
       "align_content": null,
       "align_items": null,
       "align_self": null,
       "border": null,
       "bottom": null,
       "display": null,
       "flex": null,
       "flex_flow": null,
       "grid_area": null,
       "grid_auto_columns": null,
       "grid_auto_flow": null,
       "grid_auto_rows": null,
       "grid_column": null,
       "grid_gap": null,
       "grid_row": null,
       "grid_template_areas": null,
       "grid_template_columns": null,
       "grid_template_rows": null,
       "height": null,
       "justify_content": null,
       "justify_items": null,
       "left": null,
       "margin": null,
       "max_height": null,
       "max_width": null,
       "min_height": null,
       "min_width": null,
       "object_fit": null,
       "object_position": null,
       "order": null,
       "overflow": null,
       "overflow_x": null,
       "overflow_y": null,
       "padding": null,
       "right": null,
       "top": null,
       "visibility": null,
       "width": null
      }
     },
     "562bfa391e554867bca36aab6ff8a976": {
      "model_module": "@jupyter-widgets/controls",
      "model_module_version": "1.5.0",
      "model_name": "FloatProgressModel",
      "state": {
       "_dom_classes": [],
       "_model_module": "@jupyter-widgets/controls",
       "_model_module_version": "1.5.0",
       "_model_name": "FloatProgressModel",
       "_view_count": null,
       "_view_module": "@jupyter-widgets/controls",
       "_view_module_version": "1.5.0",
       "_view_name": "ProgressView",
       "bar_style": "success",
       "description": "",
       "description_tooltip": null,
       "layout": "IPY_MODEL_a07ae58dd4fe4bd4bb2fce2ffc9ffd43",
       "max": 1961828.0,
       "min": 0.0,
       "orientation": "horizontal",
       "style": "IPY_MODEL_ca07aed86cf84854b709a0d79f298869",
       "value": 1961828.0
      }
     },
     "567d275c03724404ad084b61ac91ee7e": {
      "model_module": "@jupyter-widgets/controls",
      "model_module_version": "1.5.0",
      "model_name": "HTMLModel",
      "state": {
       "_dom_classes": [],
       "_model_module": "@jupyter-widgets/controls",
       "_model_module_version": "1.5.0",
       "_model_name": "HTMLModel",
       "_view_count": null,
       "_view_module": "@jupyter-widgets/controls",
       "_view_module_version": "1.5.0",
       "_view_name": "HTMLView",
       "description": "",
       "description_tooltip": null,
       "layout": "IPY_MODEL_f8731bb1655f4a48b92b609452428e00",
       "placeholder": "​",
       "style": "IPY_MODEL_023d86de00a04d499be64cfc641d4022",
       "value": "Downloading: 100%"
      }
     },
     "5a177c519b8743a8adc2aab3ad7bbec3": {
      "model_module": "@jupyter-widgets/controls",
      "model_module_version": "1.5.0",
      "model_name": "DescriptionStyleModel",
      "state": {
       "_model_module": "@jupyter-widgets/controls",
       "_model_module_version": "1.5.0",
       "_model_name": "DescriptionStyleModel",
       "_view_count": null,
       "_view_module": "@jupyter-widgets/base",
       "_view_module_version": "1.2.0",
       "_view_name": "StyleView",
       "description_width": ""
      }
     },
     "5aa10c6be6b746b5afe3fe123d4f3ea2": {
      "model_module": "@jupyter-widgets/controls",
      "model_module_version": "1.5.0",
      "model_name": "ProgressStyleModel",
      "state": {
       "_model_module": "@jupyter-widgets/controls",
       "_model_module_version": "1.5.0",
       "_model_name": "ProgressStyleModel",
       "_view_count": null,
       "_view_module": "@jupyter-widgets/base",
       "_view_module_version": "1.2.0",
       "_view_name": "StyleView",
       "bar_color": null,
       "description_width": ""
      }
     },
     "5cb0bfc04c6d487ebd13e20760117ea7": {
      "model_module": "@jupyter-widgets/controls",
      "model_module_version": "1.5.0",
      "model_name": "ProgressStyleModel",
      "state": {
       "_model_module": "@jupyter-widgets/controls",
       "_model_module_version": "1.5.0",
       "_model_name": "ProgressStyleModel",
       "_view_count": null,
       "_view_module": "@jupyter-widgets/base",
       "_view_module_version": "1.2.0",
       "_view_name": "StyleView",
       "bar_color": null,
       "description_width": ""
      }
     },
     "63a866bfb66e49a7ab63b3c264bf0ce9": {
      "model_module": "@jupyter-widgets/base",
      "model_module_version": "1.2.0",
      "model_name": "LayoutModel",
      "state": {
       "_model_module": "@jupyter-widgets/base",
       "_model_module_version": "1.2.0",
       "_model_name": "LayoutModel",
       "_view_count": null,
       "_view_module": "@jupyter-widgets/base",
       "_view_module_version": "1.2.0",
       "_view_name": "LayoutView",
       "align_content": null,
       "align_items": null,
       "align_self": null,
       "border": null,
       "bottom": null,
       "display": null,
       "flex": null,
       "flex_flow": null,
       "grid_area": null,
       "grid_auto_columns": null,
       "grid_auto_flow": null,
       "grid_auto_rows": null,
       "grid_column": null,
       "grid_gap": null,
       "grid_row": null,
       "grid_template_areas": null,
       "grid_template_columns": null,
       "grid_template_rows": null,
       "height": null,
       "justify_content": null,
       "justify_items": null,
       "left": null,
       "margin": null,
       "max_height": null,
       "max_width": null,
       "min_height": null,
       "min_width": null,
       "object_fit": null,
       "object_position": null,
       "order": null,
       "overflow": null,
       "overflow_x": null,
       "overflow_y": null,
       "padding": null,
       "right": null,
       "top": null,
       "visibility": null,
       "width": null
      }
     },
     "63d1d0cda42d4089aad4e1acf59afd3e": {
      "model_module": "@jupyter-widgets/controls",
      "model_module_version": "1.5.0",
      "model_name": "HBoxModel",
      "state": {
       "_dom_classes": [],
       "_model_module": "@jupyter-widgets/controls",
       "_model_module_version": "1.5.0",
       "_model_name": "HBoxModel",
       "_view_count": null,
       "_view_module": "@jupyter-widgets/controls",
       "_view_module_version": "1.5.0",
       "_view_name": "HBoxView",
       "box_style": "",
       "children": [
        "IPY_MODEL_a09f38cf9d3e41a7a5de1d4bc24c45eb",
        "IPY_MODEL_196b584f03804e7bbdfbda3154ecbdad",
        "IPY_MODEL_400e2b4a092a43b09fbf075f69e68335"
       ],
       "layout": "IPY_MODEL_38b1ab44c03e43c9bd839f5d1f3ccebf"
      }
     },
     "65259e06cc874407ad3873358ad81c4c": {
      "model_module": "@jupyter-widgets/base",
      "model_module_version": "1.2.0",
      "model_name": "LayoutModel",
      "state": {
       "_model_module": "@jupyter-widgets/base",
       "_model_module_version": "1.2.0",
       "_model_name": "LayoutModel",
       "_view_count": null,
       "_view_module": "@jupyter-widgets/base",
       "_view_module_version": "1.2.0",
       "_view_name": "LayoutView",
       "align_content": null,
       "align_items": null,
       "align_self": null,
       "border": null,
       "bottom": null,
       "display": null,
       "flex": null,
       "flex_flow": null,
       "grid_area": null,
       "grid_auto_columns": null,
       "grid_auto_flow": null,
       "grid_auto_rows": null,
       "grid_column": null,
       "grid_gap": null,
       "grid_row": null,
       "grid_template_areas": null,
       "grid_template_columns": null,
       "grid_template_rows": null,
       "height": null,
       "justify_content": null,
       "justify_items": null,
       "left": null,
       "margin": null,
       "max_height": null,
       "max_width": null,
       "min_height": null,
       "min_width": null,
       "object_fit": null,
       "object_position": null,
       "order": null,
       "overflow": null,
       "overflow_x": null,
       "overflow_y": null,
       "padding": null,
       "right": null,
       "top": null,
       "visibility": null,
       "width": null
      }
     },
     "76d76ddaac724eb68d7f7adb20bab06d": {
      "model_module": "@jupyter-widgets/base",
      "model_module_version": "1.2.0",
      "model_name": "LayoutModel",
      "state": {
       "_model_module": "@jupyter-widgets/base",
       "_model_module_version": "1.2.0",
       "_model_name": "LayoutModel",
       "_view_count": null,
       "_view_module": "@jupyter-widgets/base",
       "_view_module_version": "1.2.0",
       "_view_name": "LayoutView",
       "align_content": null,
       "align_items": null,
       "align_self": null,
       "border": null,
       "bottom": null,
       "display": null,
       "flex": null,
       "flex_flow": null,
       "grid_area": null,
       "grid_auto_columns": null,
       "grid_auto_flow": null,
       "grid_auto_rows": null,
       "grid_column": null,
       "grid_gap": null,
       "grid_row": null,
       "grid_template_areas": null,
       "grid_template_columns": null,
       "grid_template_rows": null,
       "height": null,
       "justify_content": null,
       "justify_items": null,
       "left": null,
       "margin": null,
       "max_height": null,
       "max_width": null,
       "min_height": null,
       "min_width": null,
       "object_fit": null,
       "object_position": null,
       "order": null,
       "overflow": null,
       "overflow_x": null,
       "overflow_y": null,
       "padding": null,
       "right": null,
       "top": null,
       "visibility": null,
       "width": null
      }
     },
     "7b4ea18c147c4e048fe2457b353c3a21": {
      "model_module": "@jupyter-widgets/base",
      "model_module_version": "1.2.0",
      "model_name": "LayoutModel",
      "state": {
       "_model_module": "@jupyter-widgets/base",
       "_model_module_version": "1.2.0",
       "_model_name": "LayoutModel",
       "_view_count": null,
       "_view_module": "@jupyter-widgets/base",
       "_view_module_version": "1.2.0",
       "_view_name": "LayoutView",
       "align_content": null,
       "align_items": null,
       "align_self": null,
       "border": null,
       "bottom": null,
       "display": null,
       "flex": null,
       "flex_flow": null,
       "grid_area": null,
       "grid_auto_columns": null,
       "grid_auto_flow": null,
       "grid_auto_rows": null,
       "grid_column": null,
       "grid_gap": null,
       "grid_row": null,
       "grid_template_areas": null,
       "grid_template_columns": null,
       "grid_template_rows": null,
       "height": null,
       "justify_content": null,
       "justify_items": null,
       "left": null,
       "margin": null,
       "max_height": null,
       "max_width": null,
       "min_height": null,
       "min_width": null,
       "object_fit": null,
       "object_position": null,
       "order": null,
       "overflow": null,
       "overflow_x": null,
       "overflow_y": null,
       "padding": null,
       "right": null,
       "top": null,
       "visibility": null,
       "width": null
      }
     },
     "7b8743965f75412f95a22e36e7369316": {
      "model_module": "@jupyter-widgets/controls",
      "model_module_version": "1.5.0",
      "model_name": "DescriptionStyleModel",
      "state": {
       "_model_module": "@jupyter-widgets/controls",
       "_model_module_version": "1.5.0",
       "_model_name": "DescriptionStyleModel",
       "_view_count": null,
       "_view_module": "@jupyter-widgets/base",
       "_view_module_version": "1.2.0",
       "_view_name": "StyleView",
       "description_width": ""
      }
     },
     "9181d38c97dd4bfd9d15ced3530a9574": {
      "model_module": "@jupyter-widgets/controls",
      "model_module_version": "1.5.0",
      "model_name": "HTMLModel",
      "state": {
       "_dom_classes": [],
       "_model_module": "@jupyter-widgets/controls",
       "_model_module_version": "1.5.0",
       "_model_name": "HTMLModel",
       "_view_count": null,
       "_view_module": "@jupyter-widgets/controls",
       "_view_module_version": "1.5.0",
       "_view_name": "HTMLView",
       "description": "",
       "description_tooltip": null,
       "layout": "IPY_MODEL_3b30450943ca47e08ded242696d80356",
       "placeholder": "​",
       "style": "IPY_MODEL_1f019576148b4edda297a318c741578c",
       "value": " 1.96M/1.96M [00:00&lt;00:00, 10.0MB/s]"
      }
     },
     "93d8b8a7e25d4b6da337a6486f8be890": {
      "model_module": "@jupyter-widgets/controls",
      "model_module_version": "1.5.0",
      "model_name": "HTMLModel",
      "state": {
       "_dom_classes": [],
       "_model_module": "@jupyter-widgets/controls",
       "_model_module_version": "1.5.0",
       "_model_name": "HTMLModel",
       "_view_count": null,
       "_view_module": "@jupyter-widgets/controls",
       "_view_module_version": "1.5.0",
       "_view_name": "HTMLView",
       "description": "",
       "description_tooltip": null,
       "layout": "IPY_MODEL_3874117d1f1340fa81674c25cba9108e",
       "placeholder": "​",
       "style": "IPY_MODEL_13d8e77caa474531a9d241bf4a783b5a",
       "value": " 625/625 [00:00&lt;00:00, 19.7kB/s]"
      }
     },
     "95cb8577dddf41e3abe93f305fe5d165": {
      "model_module": "@jupyter-widgets/base",
      "model_module_version": "1.2.0",
      "model_name": "LayoutModel",
      "state": {
       "_model_module": "@jupyter-widgets/base",
       "_model_module_version": "1.2.0",
       "_model_name": "LayoutModel",
       "_view_count": null,
       "_view_module": "@jupyter-widgets/base",
       "_view_module_version": "1.2.0",
       "_view_name": "LayoutView",
       "align_content": null,
       "align_items": null,
       "align_self": null,
       "border": null,
       "bottom": null,
       "display": null,
       "flex": null,
       "flex_flow": null,
       "grid_area": null,
       "grid_auto_columns": null,
       "grid_auto_flow": null,
       "grid_auto_rows": null,
       "grid_column": null,
       "grid_gap": null,
       "grid_row": null,
       "grid_template_areas": null,
       "grid_template_columns": null,
       "grid_template_rows": null,
       "height": null,
       "justify_content": null,
       "justify_items": null,
       "left": null,
       "margin": null,
       "max_height": null,
       "max_width": null,
       "min_height": null,
       "min_width": null,
       "object_fit": null,
       "object_position": null,
       "order": null,
       "overflow": null,
       "overflow_x": null,
       "overflow_y": null,
       "padding": null,
       "right": null,
       "top": null,
       "visibility": null,
       "width": null
      }
     },
     "9ca725ae695a43ec901c7515e4def136": {
      "model_module": "@jupyter-widgets/controls",
      "model_module_version": "1.5.0",
      "model_name": "ProgressStyleModel",
      "state": {
       "_model_module": "@jupyter-widgets/controls",
       "_model_module_version": "1.5.0",
       "_model_name": "ProgressStyleModel",
       "_view_count": null,
       "_view_module": "@jupyter-widgets/base",
       "_view_module_version": "1.2.0",
       "_view_name": "StyleView",
       "bar_color": null,
       "description_width": ""
      }
     },
     "a07ae58dd4fe4bd4bb2fce2ffc9ffd43": {
      "model_module": "@jupyter-widgets/base",
      "model_module_version": "1.2.0",
      "model_name": "LayoutModel",
      "state": {
       "_model_module": "@jupyter-widgets/base",
       "_model_module_version": "1.2.0",
       "_model_name": "LayoutModel",
       "_view_count": null,
       "_view_module": "@jupyter-widgets/base",
       "_view_module_version": "1.2.0",
       "_view_name": "LayoutView",
       "align_content": null,
       "align_items": null,
       "align_self": null,
       "border": null,
       "bottom": null,
       "display": null,
       "flex": null,
       "flex_flow": null,
       "grid_area": null,
       "grid_auto_columns": null,
       "grid_auto_flow": null,
       "grid_auto_rows": null,
       "grid_column": null,
       "grid_gap": null,
       "grid_row": null,
       "grid_template_areas": null,
       "grid_template_columns": null,
       "grid_template_rows": null,
       "height": null,
       "justify_content": null,
       "justify_items": null,
       "left": null,
       "margin": null,
       "max_height": null,
       "max_width": null,
       "min_height": null,
       "min_width": null,
       "object_fit": null,
       "object_position": null,
       "order": null,
       "overflow": null,
       "overflow_x": null,
       "overflow_y": null,
       "padding": null,
       "right": null,
       "top": null,
       "visibility": null,
       "width": null
      }
     },
     "a09f38cf9d3e41a7a5de1d4bc24c45eb": {
      "model_module": "@jupyter-widgets/controls",
      "model_module_version": "1.5.0",
      "model_name": "HTMLModel",
      "state": {
       "_dom_classes": [],
       "_model_module": "@jupyter-widgets/controls",
       "_model_module_version": "1.5.0",
       "_model_name": "HTMLModel",
       "_view_count": null,
       "_view_module": "@jupyter-widgets/controls",
       "_view_module_version": "1.5.0",
       "_view_name": "HTMLView",
       "description": "",
       "description_tooltip": null,
       "layout": "IPY_MODEL_44a410fdb10f4c43903c94896576b668",
       "placeholder": "​",
       "style": "IPY_MODEL_7b8743965f75412f95a22e36e7369316",
       "value": "Downloading: 100%"
      }
     },
     "a2d5af63474b4b73b0fc04d4ec62c2d8": {
      "model_module": "@jupyter-widgets/base",
      "model_module_version": "1.2.0",
      "model_name": "LayoutModel",
      "state": {
       "_model_module": "@jupyter-widgets/base",
       "_model_module_version": "1.2.0",
       "_model_name": "LayoutModel",
       "_view_count": null,
       "_view_module": "@jupyter-widgets/base",
       "_view_module_version": "1.2.0",
       "_view_name": "LayoutView",
       "align_content": null,
       "align_items": null,
       "align_self": null,
       "border": null,
       "bottom": null,
       "display": null,
       "flex": null,
       "flex_flow": null,
       "grid_area": null,
       "grid_auto_columns": null,
       "grid_auto_flow": null,
       "grid_auto_rows": null,
       "grid_column": null,
       "grid_gap": null,
       "grid_row": null,
       "grid_template_areas": null,
       "grid_template_columns": null,
       "grid_template_rows": null,
       "height": null,
       "justify_content": null,
       "justify_items": null,
       "left": null,
       "margin": null,
       "max_height": null,
       "max_width": null,
       "min_height": null,
       "min_width": null,
       "object_fit": null,
       "object_position": null,
       "order": null,
       "overflow": null,
       "overflow_x": null,
       "overflow_y": null,
       "padding": null,
       "right": null,
       "top": null,
       "visibility": null,
       "width": null
      }
     },
     "b6d3d5b431e74846b2dab0ca1fb3b33b": {
      "model_module": "@jupyter-widgets/base",
      "model_module_version": "1.2.0",
      "model_name": "LayoutModel",
      "state": {
       "_model_module": "@jupyter-widgets/base",
       "_model_module_version": "1.2.0",
       "_model_name": "LayoutModel",
       "_view_count": null,
       "_view_module": "@jupyter-widgets/base",
       "_view_module_version": "1.2.0",
       "_view_name": "LayoutView",
       "align_content": null,
       "align_items": null,
       "align_self": null,
       "border": null,
       "bottom": null,
       "display": null,
       "flex": null,
       "flex_flow": null,
       "grid_area": null,
       "grid_auto_columns": null,
       "grid_auto_flow": null,
       "grid_auto_rows": null,
       "grid_column": null,
       "grid_gap": null,
       "grid_row": null,
       "grid_template_areas": null,
       "grid_template_columns": null,
       "grid_template_rows": null,
       "height": null,
       "justify_content": null,
       "justify_items": null,
       "left": null,
       "margin": null,
       "max_height": null,
       "max_width": null,
       "min_height": null,
       "min_width": null,
       "object_fit": null,
       "object_position": null,
       "order": null,
       "overflow": null,
       "overflow_x": null,
       "overflow_y": null,
       "padding": null,
       "right": null,
       "top": null,
       "visibility": null,
       "width": null
      }
     },
     "b95cdc8bc8ca49a999200d059926c0aa": {
      "model_module": "@jupyter-widgets/controls",
      "model_module_version": "1.5.0",
      "model_name": "HTMLModel",
      "state": {
       "_dom_classes": [],
       "_model_module": "@jupyter-widgets/controls",
       "_model_module_version": "1.5.0",
       "_model_name": "HTMLModel",
       "_view_count": null,
       "_view_module": "@jupyter-widgets/controls",
       "_view_module_version": "1.5.0",
       "_view_name": "HTMLView",
       "description": "",
       "description_tooltip": null,
       "layout": "IPY_MODEL_65259e06cc874407ad3873358ad81c4c",
       "placeholder": "​",
       "style": "IPY_MODEL_d65f7746b4db4b9aa1b49cf16988dd29",
       "value": " 1.08G/1.08G [00:30&lt;00:00, 38.6MB/s]"
      }
     },
     "bd563773af7b4ead808493b14c1d7ab7": {
      "model_module": "@jupyter-widgets/base",
      "model_module_version": "1.2.0",
      "model_name": "LayoutModel",
      "state": {
       "_model_module": "@jupyter-widgets/base",
       "_model_module_version": "1.2.0",
       "_model_name": "LayoutModel",
       "_view_count": null,
       "_view_module": "@jupyter-widgets/base",
       "_view_module_version": "1.2.0",
       "_view_name": "LayoutView",
       "align_content": null,
       "align_items": null,
       "align_self": null,
       "border": null,
       "bottom": null,
       "display": null,
       "flex": null,
       "flex_flow": null,
       "grid_area": null,
       "grid_auto_columns": null,
       "grid_auto_flow": null,
       "grid_auto_rows": null,
       "grid_column": null,
       "grid_gap": null,
       "grid_row": null,
       "grid_template_areas": null,
       "grid_template_columns": null,
       "grid_template_rows": null,
       "height": null,
       "justify_content": null,
       "justify_items": null,
       "left": null,
       "margin": null,
       "max_height": null,
       "max_width": null,
       "min_height": null,
       "min_width": null,
       "object_fit": null,
       "object_position": null,
       "order": null,
       "overflow": null,
       "overflow_x": null,
       "overflow_y": null,
       "padding": null,
       "right": null,
       "top": null,
       "visibility": null,
       "width": null
      }
     },
     "bfaaa350f2d94d5995dc61875ca4b9e3": {
      "model_module": "@jupyter-widgets/base",
      "model_module_version": "1.2.0",
      "model_name": "LayoutModel",
      "state": {
       "_model_module": "@jupyter-widgets/base",
       "_model_module_version": "1.2.0",
       "_model_name": "LayoutModel",
       "_view_count": null,
       "_view_module": "@jupyter-widgets/base",
       "_view_module_version": "1.2.0",
       "_view_name": "LayoutView",
       "align_content": null,
       "align_items": null,
       "align_self": null,
       "border": null,
       "bottom": null,
       "display": null,
       "flex": null,
       "flex_flow": null,
       "grid_area": null,
       "grid_auto_columns": null,
       "grid_auto_flow": null,
       "grid_auto_rows": null,
       "grid_column": null,
       "grid_gap": null,
       "grid_row": null,
       "grid_template_areas": null,
       "grid_template_columns": null,
       "grid_template_rows": null,
       "height": null,
       "justify_content": null,
       "justify_items": null,
       "left": null,
       "margin": null,
       "max_height": null,
       "max_width": null,
       "min_height": null,
       "min_width": null,
       "object_fit": null,
       "object_position": null,
       "order": null,
       "overflow": null,
       "overflow_x": null,
       "overflow_y": null,
       "padding": null,
       "right": null,
       "top": null,
       "visibility": null,
       "width": null
      }
     },
     "c03e5ed056314ce6974d2f31ab72fec7": {
      "model_module": "@jupyter-widgets/controls",
      "model_module_version": "1.5.0",
      "model_name": "DescriptionStyleModel",
      "state": {
       "_model_module": "@jupyter-widgets/controls",
       "_model_module_version": "1.5.0",
       "_model_name": "DescriptionStyleModel",
       "_view_count": null,
       "_view_module": "@jupyter-widgets/base",
       "_view_module_version": "1.2.0",
       "_view_name": "StyleView",
       "description_width": ""
      }
     },
     "c5d80ccaa799465597164577351d2152": {
      "model_module": "@jupyter-widgets/base",
      "model_module_version": "1.2.0",
      "model_name": "LayoutModel",
      "state": {
       "_model_module": "@jupyter-widgets/base",
       "_model_module_version": "1.2.0",
       "_model_name": "LayoutModel",
       "_view_count": null,
       "_view_module": "@jupyter-widgets/base",
       "_view_module_version": "1.2.0",
       "_view_name": "LayoutView",
       "align_content": null,
       "align_items": null,
       "align_self": null,
       "border": null,
       "bottom": null,
       "display": null,
       "flex": null,
       "flex_flow": null,
       "grid_area": null,
       "grid_auto_columns": null,
       "grid_auto_flow": null,
       "grid_auto_rows": null,
       "grid_column": null,
       "grid_gap": null,
       "grid_row": null,
       "grid_template_areas": null,
       "grid_template_columns": null,
       "grid_template_rows": null,
       "height": null,
       "justify_content": null,
       "justify_items": null,
       "left": null,
       "margin": null,
       "max_height": null,
       "max_width": null,
       "min_height": null,
       "min_width": null,
       "object_fit": null,
       "object_position": null,
       "order": null,
       "overflow": null,
       "overflow_x": null,
       "overflow_y": null,
       "padding": null,
       "right": null,
       "top": null,
       "visibility": null,
       "width": null
      }
     },
     "c623b97371884fff986cee5cee660953": {
      "model_module": "@jupyter-widgets/base",
      "model_module_version": "1.2.0",
      "model_name": "LayoutModel",
      "state": {
       "_model_module": "@jupyter-widgets/base",
       "_model_module_version": "1.2.0",
       "_model_name": "LayoutModel",
       "_view_count": null,
       "_view_module": "@jupyter-widgets/base",
       "_view_module_version": "1.2.0",
       "_view_name": "LayoutView",
       "align_content": null,
       "align_items": null,
       "align_self": null,
       "border": null,
       "bottom": null,
       "display": null,
       "flex": null,
       "flex_flow": null,
       "grid_area": null,
       "grid_auto_columns": null,
       "grid_auto_flow": null,
       "grid_auto_rows": null,
       "grid_column": null,
       "grid_gap": null,
       "grid_row": null,
       "grid_template_areas": null,
       "grid_template_columns": null,
       "grid_template_rows": null,
       "height": null,
       "justify_content": null,
       "justify_items": null,
       "left": null,
       "margin": null,
       "max_height": null,
       "max_width": null,
       "min_height": null,
       "min_width": null,
       "object_fit": null,
       "object_position": null,
       "order": null,
       "overflow": null,
       "overflow_x": null,
       "overflow_y": null,
       "padding": null,
       "right": null,
       "top": null,
       "visibility": null,
       "width": null
      }
     },
     "c7a4b97181774bad949f1a62096518d6": {
      "model_module": "@jupyter-widgets/controls",
      "model_module_version": "1.5.0",
      "model_name": "HTMLModel",
      "state": {
       "_dom_classes": [],
       "_model_module": "@jupyter-widgets/controls",
       "_model_module_version": "1.5.0",
       "_model_name": "HTMLModel",
       "_view_count": null,
       "_view_module": "@jupyter-widgets/controls",
       "_view_module_version": "1.5.0",
       "_view_name": "HTMLView",
       "description": "",
       "description_tooltip": null,
       "layout": "IPY_MODEL_556bc96072da4503915e2207cb239bc9",
       "placeholder": "​",
       "style": "IPY_MODEL_c03e5ed056314ce6974d2f31ab72fec7",
       "value": "Downloading: 100%"
      }
     },
     "ca07aed86cf84854b709a0d79f298869": {
      "model_module": "@jupyter-widgets/controls",
      "model_module_version": "1.5.0",
      "model_name": "ProgressStyleModel",
      "state": {
       "_model_module": "@jupyter-widgets/controls",
       "_model_module_version": "1.5.0",
       "_model_name": "ProgressStyleModel",
       "_view_count": null,
       "_view_module": "@jupyter-widgets/base",
       "_view_module_version": "1.2.0",
       "_view_name": "StyleView",
       "bar_color": null,
       "description_width": ""
      }
     },
     "d09b820d4304419eb1da26e9fb90faee": {
      "model_module": "@jupyter-widgets/controls",
      "model_module_version": "1.5.0",
      "model_name": "FloatProgressModel",
      "state": {
       "_dom_classes": [],
       "_model_module": "@jupyter-widgets/controls",
       "_model_module_version": "1.5.0",
       "_model_name": "FloatProgressModel",
       "_view_count": null,
       "_view_module": "@jupyter-widgets/controls",
       "_view_module_version": "1.5.0",
       "_view_name": "ProgressView",
       "bar_style": "success",
       "description": "",
       "description_tooltip": null,
       "layout": "IPY_MODEL_7b4ea18c147c4e048fe2457b353c3a21",
       "max": 1083389348.0,
       "min": 0.0,
       "orientation": "horizontal",
       "style": "IPY_MODEL_5cb0bfc04c6d487ebd13e20760117ea7",
       "value": 1083389348.0
      }
     },
     "d39741393add439a8ef12c27f16e60ee": {
      "model_module": "@jupyter-widgets/controls",
      "model_module_version": "1.5.0",
      "model_name": "HBoxModel",
      "state": {
       "_dom_classes": [],
       "_model_module": "@jupyter-widgets/controls",
       "_model_module_version": "1.5.0",
       "_model_name": "HBoxModel",
       "_view_count": null,
       "_view_module": "@jupyter-widgets/controls",
       "_view_module_version": "1.5.0",
       "_view_name": "HBoxView",
       "box_style": "",
       "children": [
        "IPY_MODEL_f9b570ea1d99456a86bb9e09ee573d68",
        "IPY_MODEL_562bfa391e554867bca36aab6ff8a976",
        "IPY_MODEL_9181d38c97dd4bfd9d15ced3530a9574"
       ],
       "layout": "IPY_MODEL_63a866bfb66e49a7ab63b3c264bf0ce9"
      }
     },
     "d58e290cac2c4e62babfe62a8e2152e3": {
      "model_module": "@jupyter-widgets/controls",
      "model_module_version": "1.5.0",
      "model_name": "HBoxModel",
      "state": {
       "_dom_classes": [],
       "_model_module": "@jupyter-widgets/controls",
       "_model_module_version": "1.5.0",
       "_model_name": "HBoxModel",
       "_view_count": null,
       "_view_module": "@jupyter-widgets/controls",
       "_view_module_version": "1.5.0",
       "_view_name": "HBoxView",
       "box_style": "",
       "children": [
        "IPY_MODEL_567d275c03724404ad084b61ac91ee7e",
        "IPY_MODEL_d09b820d4304419eb1da26e9fb90faee",
        "IPY_MODEL_b95cdc8bc8ca49a999200d059926c0aa"
       ],
       "layout": "IPY_MODEL_b6d3d5b431e74846b2dab0ca1fb3b33b"
      }
     },
     "d65f7746b4db4b9aa1b49cf16988dd29": {
      "model_module": "@jupyter-widgets/controls",
      "model_module_version": "1.5.0",
      "model_name": "DescriptionStyleModel",
      "state": {
       "_model_module": "@jupyter-widgets/controls",
       "_model_module_version": "1.5.0",
       "_model_name": "DescriptionStyleModel",
       "_view_count": null,
       "_view_module": "@jupyter-widgets/base",
       "_view_module_version": "1.2.0",
       "_view_name": "StyleView",
       "description_width": ""
      }
     },
     "e78a2ae83a854bb1a03e60ee03c10c3b": {
      "model_module": "@jupyter-widgets/controls",
      "model_module_version": "1.5.0",
      "model_name": "HTMLModel",
      "state": {
       "_dom_classes": [],
       "_model_module": "@jupyter-widgets/controls",
       "_model_module_version": "1.5.0",
       "_model_name": "HTMLModel",
       "_view_count": null,
       "_view_module": "@jupyter-widgets/controls",
       "_view_module_version": "1.5.0",
       "_view_name": "HTMLView",
       "description": "",
       "description_tooltip": null,
       "layout": "IPY_MODEL_c5d80ccaa799465597164577351d2152",
       "placeholder": "​",
       "style": "IPY_MODEL_20af143cc5e54c15828349449167275e",
       "value": "Downloading: 100%"
      }
     },
     "f33a6c9b881348a785efddcfd237f937": {
      "model_module": "@jupyter-widgets/controls",
      "model_module_version": "1.5.0",
      "model_name": "ProgressStyleModel",
      "state": {
       "_model_module": "@jupyter-widgets/controls",
       "_model_module_version": "1.5.0",
       "_model_name": "ProgressStyleModel",
       "_view_count": null,
       "_view_module": "@jupyter-widgets/base",
       "_view_module_version": "1.2.0",
       "_view_name": "StyleView",
       "bar_color": null,
       "description_width": ""
      }
     },
     "f6864e9f54504ef28e999c7da2123b7e": {
      "model_module": "@jupyter-widgets/controls",
      "model_module_version": "1.5.0",
      "model_name": "FloatProgressModel",
      "state": {
       "_dom_classes": [],
       "_model_module": "@jupyter-widgets/controls",
       "_model_module_version": "1.5.0",
       "_model_name": "FloatProgressModel",
       "_view_count": null,
       "_view_module": "@jupyter-widgets/controls",
       "_view_module_version": "1.5.0",
       "_view_name": "ProgressView",
       "bar_style": "success",
       "description": "",
       "description_tooltip": null,
       "layout": "IPY_MODEL_bd563773af7b4ead808493b14c1d7ab7",
       "max": 625.0,
       "min": 0.0,
       "orientation": "horizontal",
       "style": "IPY_MODEL_9ca725ae695a43ec901c7515e4def136",
       "value": 625.0
      }
     },
     "f8731bb1655f4a48b92b609452428e00": {
      "model_module": "@jupyter-widgets/base",
      "model_module_version": "1.2.0",
      "model_name": "LayoutModel",
      "state": {
       "_model_module": "@jupyter-widgets/base",
       "_model_module_version": "1.2.0",
       "_model_name": "LayoutModel",
       "_view_count": null,
       "_view_module": "@jupyter-widgets/base",
       "_view_module_version": "1.2.0",
       "_view_name": "LayoutView",
       "align_content": null,
       "align_items": null,
       "align_self": null,
       "border": null,
       "bottom": null,
       "display": null,
       "flex": null,
       "flex_flow": null,
       "grid_area": null,
       "grid_auto_columns": null,
       "grid_auto_flow": null,
       "grid_auto_rows": null,
       "grid_column": null,
       "grid_gap": null,
       "grid_row": null,
       "grid_template_areas": null,
       "grid_template_columns": null,
       "grid_template_rows": null,
       "height": null,
       "justify_content": null,
       "justify_items": null,
       "left": null,
       "margin": null,
       "max_height": null,
       "max_width": null,
       "min_height": null,
       "min_width": null,
       "object_fit": null,
       "object_position": null,
       "order": null,
       "overflow": null,
       "overflow_x": null,
       "overflow_y": null,
       "padding": null,
       "right": null,
       "top": null,
       "visibility": null,
       "width": null
      }
     },
     "f9b570ea1d99456a86bb9e09ee573d68": {
      "model_module": "@jupyter-widgets/controls",
      "model_module_version": "1.5.0",
      "model_name": "HTMLModel",
      "state": {
       "_dom_classes": [],
       "_model_module": "@jupyter-widgets/controls",
       "_model_module_version": "1.5.0",
       "_model_name": "HTMLModel",
       "_view_count": null,
       "_view_module": "@jupyter-widgets/controls",
       "_view_module_version": "1.5.0",
       "_view_name": "HTMLView",
       "description": "",
       "description_tooltip": null,
       "layout": "IPY_MODEL_481d163908ce4a64b237ce061cc5ecf4",
       "placeholder": "​",
       "style": "IPY_MODEL_52dab79b838844bfa3c2cfb5b19e6f4d",
       "value": "Downloading: 100%"
      }
     }
    },
    "version_major": 2,
    "version_minor": 0
   }
  }
 },
 "nbformat": 4,
 "nbformat_minor": 5
}
